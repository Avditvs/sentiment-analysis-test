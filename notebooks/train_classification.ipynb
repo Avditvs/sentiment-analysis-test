{
 "cells": [
  {
   "cell_type": "code",
   "execution_count": 3,
   "id": "51b20a9f-009d-4258-be0c-fe2e977fda33",
   "metadata": {},
   "outputs": [],
   "source": [
    "import os\n",
    "import sys\n",
    "\n",
    "sys.path.append(\"../\")\n",
    "\n",
    "import torch\n",
    "import pandas as pd\n",
    "import numpy as np\n",
    "from tqdm import tqdm\n",
    "from matplotlib import pyplot as plt\n",
    "from collections import Counter\n",
    "import langdetect\n",
    "import random\n",
    "import re\n",
    "from sklearn.model_selection import train_test_split\n",
    "\n",
    "from utils.preprocessing import clean_dataset"
   ]
  },
  {
   "cell_type": "code",
   "execution_count": 5,
   "id": "0666f5cf-928a-453c-b0c0-cf18329da9b0",
   "metadata": {},
   "outputs": [],
   "source": [
    "DATA_DIR = \"../data\"\n",
    "data_train = pd.read_csv(os.path.join(DATA_DIR, \"train_cleaned.csv\"), na_filter=False)\n",
    "data_val = pd.read_csv(os.path.join(DATA_DIR, \"val_cleaned.csv\"), na_filter=False)"
   ]
  },
  {
   "cell_type": "code",
   "execution_count": 6,
   "id": "85ea5691-d655-492c-b871-5f16cbd9473f",
   "metadata": {},
   "outputs": [],
   "source": [
    "from transformers import AutoTokenizer, AutoModelForSequenceClassification\n",
    "from transformers import InputExample, InputFeatures\n",
    "from transformers import TrainingArguments\n",
    "from transformers import Trainer\n",
    "import torch\n",
    "from datasets import load_metric\n",
    "\n",
    "from utils.classes import SentimentDataset\n",
    "from utils.preprocessing import make_labels, tokenize"
   ]
  },
  {
   "cell_type": "code",
   "execution_count": 7,
   "id": "68cf9d50-21b9-4be4-a3a6-67c15618e261",
   "metadata": {},
   "outputs": [],
   "source": [
    "MODEL = \"xlm-roberta-base\""
   ]
  },
  {
   "cell_type": "code",
   "execution_count": 8,
   "id": "6d12a306-9573-421e-ad75-751b1e331c49",
   "metadata": {
    "tags": []
   },
   "outputs": [
    {
     "name": "stderr",
     "output_type": "stream",
     "text": [
      "Some weights of the model checkpoint at xlm-roberta-base were not used when initializing XLMRobertaForSequenceClassification: ['lm_head.dense.bias', 'lm_head.layer_norm.bias', 'lm_head.bias', 'lm_head.decoder.weight', 'lm_head.layer_norm.weight', 'lm_head.dense.weight', 'roberta.pooler.dense.weight', 'roberta.pooler.dense.bias']\n",
      "- This IS expected if you are initializing XLMRobertaForSequenceClassification from the checkpoint of a model trained on another task or with another architecture (e.g. initializing a BertForSequenceClassification model from a BertForPreTraining model).\n",
      "- This IS NOT expected if you are initializing XLMRobertaForSequenceClassification from the checkpoint of a model that you expect to be exactly identical (initializing a BertForSequenceClassification model from a BertForSequenceClassification model).\n",
      "Some weights of XLMRobertaForSequenceClassification were not initialized from the model checkpoint at xlm-roberta-base and are newly initialized: ['classifier.out_proj.weight', 'classifier.dense.weight', 'classifier.out_proj.bias', 'classifier.dense.bias']\n",
      "You should probably TRAIN this model on a down-stream task to be able to use it for predictions and inference.\n"
     ]
    }
   ],
   "source": [
    "model = AutoModelForSequenceClassification.from_pretrained(MODEL, num_labels=3)\n",
    "tokenizer = AutoTokenizer.from_pretrained(MODEL)"
   ]
  },
  {
   "cell_type": "code",
   "execution_count": 9,
   "id": "e56cb8a8-0d85-410e-ac36-9481ec838315",
   "metadata": {},
   "outputs": [],
   "source": [
    "X_train = tokenize(tokenizer, data_train.content)"
   ]
  },
  {
   "cell_type": "code",
   "execution_count": 10,
   "id": "edd36de4-fc29-4ec0-ad28-5dc302f2087e",
   "metadata": {},
   "outputs": [],
   "source": [
    "X_val = tokenize(tokenizer, data_val.content)"
   ]
  },
  {
   "cell_type": "code",
   "execution_count": 11,
   "id": "f30b64e8-529b-421b-bc8c-ad6b9501e966",
   "metadata": {},
   "outputs": [],
   "source": [
    "y_train = data_train.sentiment\n",
    "y_val = data_val.sentiment"
   ]
  },
  {
   "cell_type": "code",
   "execution_count": 12,
   "id": "c8b9630c-3395-45e0-bf61-0d41ee8545ba",
   "metadata": {},
   "outputs": [],
   "source": [
    "y_train_labels = make_labels(y_train)\n",
    "y_val_labels = make_labels(y_val)"
   ]
  },
  {
   "cell_type": "code",
   "execution_count": 13,
   "id": "499bd1ed-3a71-4567-b0fd-d36749e1b808",
   "metadata": {},
   "outputs": [],
   "source": [
    "train_dataset_torch = SentimentDataset(X_train, y_train_labels)\n",
    "val_dataset_torch = SentimentDataset(X_val, y_val_labels)"
   ]
  },
  {
   "cell_type": "code",
   "execution_count": 14,
   "id": "f5d80da7-68f1-407e-a69f-9b5df6b48750",
   "metadata": {},
   "outputs": [],
   "source": [
    "def compute_metrics(eval_pred):\n",
    "    logits, labels = eval_pred\n",
    "    predictions = np.argmax(logits, axis=-1)\n",
    "    return metric.compute(predictions=predictions, references=labels)"
   ]
  },
  {
   "cell_type": "code",
   "execution_count": 19,
   "id": "745eeda7-1e44-4291-9996-d03767666a6b",
   "metadata": {},
   "outputs": [
    {
     "name": "stderr",
     "output_type": "stream",
     "text": [
      "PyTorch: setting up devices\n",
      "The default value for the training argument `--report_to` will change in v5 (from all installed integrations to none). In v5, you will need to use `--report_to all` to get the same behavior as now. You should start updating your code and make this info disappear :-).\n"
     ]
    }
   ],
   "source": [
    "training_args = TrainingArguments(\n",
    "    output_dir = os.path.join(DATA_DIR, \"models\", \"xlm_roberta_classif\"),\n",
    "    per_device_train_batch_size=2,\n",
    "    per_device_eval_batch_size=32,\n",
    "    gradient_accumulation_steps=16,\n",
    "    fp16 = True,\n",
    "    fp16_opt_level = 'O1',\n",
    "    evaluation_strategy = 'epoch',\n",
    "    save_strategy=\"epoch\",\n",
    "    num_train_epochs=4,\n",
    "    \n",
    "    \n",
    ")"
   ]
  },
  {
   "cell_type": "code",
   "execution_count": 16,
   "id": "f521a7df-5f51-4124-92ef-4ec4b0436077",
   "metadata": {},
   "outputs": [
    {
     "name": "stderr",
     "output_type": "stream",
     "text": [
      "Using amp fp16 backend\n"
     ]
    }
   ],
   "source": [
    "trainer = Trainer(\n",
    "    model=model,\n",
    "    args=training_args,\n",
    "    train_dataset=train_dataset_torch,\n",
    "    eval_dataset=val_dataset_torch,\n",
    "    compute_metrics=compute_metrics\n",
    ")"
   ]
  },
  {
   "cell_type": "code",
   "execution_count": null,
   "id": "547cdab8-0c9c-40a0-abb3-56305dc07b09",
   "metadata": {},
   "outputs": [],
   "source": [
    "trainer.train()"
   ]
  },
  {
   "cell_type": "code",
   "execution_count": null,
   "id": "f047ecb9-efbd-4233-b2ab-439e68e4489a",
   "metadata": {},
   "outputs": [],
   "source": []
  }
 ],
 "metadata": {
  "kernelspec": {
   "display_name": "Python 3 (ipykernel)",
   "language": "python",
   "name": "python3"
  },
  "language_info": {
   "codemirror_mode": {
    "name": "ipython",
    "version": 3
   },
   "file_extension": ".py",
   "mimetype": "text/x-python",
   "name": "python",
   "nbconvert_exporter": "python",
   "pygments_lexer": "ipython3",
   "version": "3.9.7"
  }
 },
 "nbformat": 4,
 "nbformat_minor": 5
}
