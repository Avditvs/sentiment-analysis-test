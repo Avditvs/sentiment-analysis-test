{
 "cells": [
  {
   "cell_type": "markdown",
   "id": "3822c09c-96c5-4f2b-ab44-332df7ea1259",
   "metadata": {},
   "source": [
    "# Results Classification"
   ]
  },
  {
   "cell_type": "code",
   "execution_count": 1,
   "id": "19f66bf3-25dc-4491-a57e-976e8d57a571",
   "metadata": {},
   "outputs": [],
   "source": [
    "import os\n",
    "import sys\n",
    "\n",
    "sys.path.append('../')\n",
    "\n",
    "import torch\n",
    "import pandas as pd\n",
    "import numpy as np"
   ]
  },
  {
   "cell_type": "code",
   "execution_count": 2,
   "id": "fbdc3991-9c43-4920-a0ad-ff2e1afeaad3",
   "metadata": {},
   "outputs": [],
   "source": [
    "DATA_DIR = \"../data\"\n",
    "data_train = pd.read_csv(os.path.join(DATA_DIR, \"train_cleaned.csv\"), na_filter=False)\n",
    "data_val = pd.read_csv(os.path.join(DATA_DIR, \"val_cleaned.csv\"), na_filter=False)"
   ]
  },
  {
   "cell_type": "code",
   "execution_count": 3,
   "id": "acc76383-d396-418c-a967-71b209483a8e",
   "metadata": {},
   "outputs": [],
   "source": [
    "from transformers import AutoTokenizer, AutoModelForSequenceClassification\n",
    "from transformers import TrainingArguments\n",
    "from transformers import Trainer\n",
    "from datasets import load_metric\n",
    "\n",
    "from utils.preprocessing import make_labels, tokenize\n",
    "\n",
    "from utils.classes import SentimentDataset"
   ]
  },
  {
   "cell_type": "code",
   "execution_count": 4,
   "id": "c9987800-2ae3-4e91-8791-d25d5c3445c8",
   "metadata": {},
   "outputs": [],
   "source": [
    "MODEL = \"xlm-roberta-base\"\n",
    "MODEL_PRETRAINED = \"../models/xlm_roberta_classif/checkpoint-1758\"\n",
    "model = AutoModelForSequenceClassification.from_pretrained(MODEL_PRETRAINED, num_labels=3)\n",
    "tokenizer = AutoTokenizer.from_pretrained(MODEL)"
   ]
  },
  {
   "cell_type": "code",
   "execution_count": 5,
   "id": "8e8b4651-6631-4410-b730-b71831046152",
   "metadata": {},
   "outputs": [],
   "source": [
    "X_train = tokenize(tokenizer, data_train.content)\n",
    "X_val = tokenize(tokenizer, data_val.content)\n",
    "y_train = data_train.sentiment\n",
    "y_val = data_val.sentiment"
   ]
  },
  {
   "cell_type": "code",
   "execution_count": 6,
   "id": "3beb9a98-fca4-4f5a-905c-a7eee09ad61f",
   "metadata": {},
   "outputs": [],
   "source": [
    "y_train_labels = make_labels(y_train)\n",
    "y_val_labels = make_labels(y_val)"
   ]
  },
  {
   "cell_type": "code",
   "execution_count": 7,
   "id": "c264a773-9f46-4f2f-b53a-1ad4404b06e0",
   "metadata": {},
   "outputs": [],
   "source": [
    "data_train = data_train.assign(label=pd.Series(y_train_labels).values)\n",
    "data_val = data_val.assign(label=pd.Series(y_val_labels).values)"
   ]
  },
  {
   "cell_type": "code",
   "execution_count": 8,
   "id": "bf6c5cb5-477d-4f1a-a346-130a54496405",
   "metadata": {},
   "outputs": [],
   "source": [
    "train_dataset_torch = SentimentDataset(X_train, y_train_labels)\n",
    "val_dataset_torch = SentimentDataset(X_val, y_val_labels)"
   ]
  },
  {
   "cell_type": "code",
   "execution_count": 9,
   "id": "f9d64872-2f61-4525-800d-e130f908bbb3",
   "metadata": {},
   "outputs": [],
   "source": [
    "metric = load_metric(\"accuracy\")"
   ]
  },
  {
   "cell_type": "code",
   "execution_count": 10,
   "id": "312d004a-95fb-477b-9d8c-b5b852140330",
   "metadata": {},
   "outputs": [],
   "source": [
    "def compute_metrics(eval_pred):\n",
    "    logits, labels = eval_pred\n",
    "    predictions = np.argmax(logits, axis=-1)\n",
    "    return metric.compute(predictions=predictions, references=labels)"
   ]
  },
  {
   "cell_type": "code",
   "execution_count": 11,
   "id": "9ef66290-8b3a-441a-91f8-eff0f8570e70",
   "metadata": {},
   "outputs": [],
   "source": [
    "training_args = TrainingArguments(\n",
    "    \"bert_base_uncased_classif\",\n",
    "    per_device_train_batch_size=1,\n",
    "    per_device_eval_batch_size=8,\n",
    "    gradient_accumulation_steps=32,\n",
    "    fp16 = True,\n",
    "    fp16_opt_level = 'O1',\n",
    "    evaluation_strategy = 'epoch',\n",
    "    save_strategy=\"epoch\",\n",
    "    num_train_epochs=4\n",
    "    \n",
    ")"
   ]
  },
  {
   "cell_type": "code",
   "execution_count": 12,
   "id": "d7356b9f-a186-4e85-a430-71d21d1cd04f",
   "metadata": {},
   "outputs": [
    {
     "name": "stderr",
     "output_type": "stream",
     "text": [
      "Using amp fp16 backend\n"
     ]
    }
   ],
   "source": [
    "trainer = Trainer(\n",
    "    model=model,\n",
    "    args=training_args,\n",
    "    train_dataset=train_dataset_torch,\n",
    "    eval_dataset=val_dataset_torch,\n",
    "    compute_metrics=compute_metrics\n",
    ")"
   ]
  },
  {
   "cell_type": "code",
   "execution_count": 13,
   "id": "f66f964b-2b63-4add-8f45-dd33d56528b2",
   "metadata": {},
   "outputs": [
    {
     "name": "stderr",
     "output_type": "stream",
     "text": [
      "***** Running Prediction *****\n",
      "  Num examples = 6250\n",
      "  Batch size = 8\n"
     ]
    },
    {
     "data": {
      "text/html": [
       "\n",
       "    <div>\n",
       "      \n",
       "      <progress value='782' max='782' style='width:300px; height:20px; vertical-align: middle;'></progress>\n",
       "      [782/782 00:20]\n",
       "    </div>\n",
       "    "
      ],
      "text/plain": [
       "<IPython.core.display.HTML object>"
      ]
     },
     "metadata": {},
     "output_type": "display_data"
    }
   ],
   "source": [
    "val_predictions = trainer.predict(val_dataset_torch)"
   ]
  },
  {
   "cell_type": "code",
   "execution_count": 14,
   "id": "51f94ee8-4a67-49bc-b2d6-9cfe1161a4b8",
   "metadata": {},
   "outputs": [],
   "source": [
    "val_predictions_labels = np.argmax(val_predictions.predictions, axis = 1)"
   ]
  },
  {
   "cell_type": "code",
   "execution_count": 15,
   "id": "a2745417-7e4d-4829-9258-1f05e2d1f7ff",
   "metadata": {},
   "outputs": [
    {
     "data": {
      "text/plain": [
       "{'accuracy': 0.86416}"
      ]
     },
     "execution_count": 15,
     "metadata": {},
     "output_type": "execute_result"
    }
   ],
   "source": [
    "metric.compute(predictions=val_predictions_labels, references=val_predictions.label_ids)"
   ]
  },
  {
   "cell_type": "code",
   "execution_count": 16,
   "id": "6b8dd122-708c-4c28-b277-3d263dd8f26f",
   "metadata": {},
   "outputs": [],
   "source": [
    "from sklearn.metrics import confusion_matrix, ConfusionMatrixDisplay"
   ]
  },
  {
   "cell_type": "code",
   "execution_count": 17,
   "id": "09fa391b-a70f-4c88-9cad-195ada3e4b4f",
   "metadata": {},
   "outputs": [
    {
     "data": {
      "text/plain": [
       "<sklearn.metrics._plot.confusion_matrix.ConfusionMatrixDisplay at 0x23e214b70d0>"
      ]
     },
     "execution_count": 17,
     "metadata": {},
     "output_type": "execute_result"
    },
    {
     "data": {
      "image/png": "[encoded data removed]",
      "text/plain": [
       "<Figure size 432x288 with 2 Axes>"
      ]
     },
     "metadata": {
      "needs_background": "light"
     },
     "output_type": "display_data"
    }
   ],
   "source": [
    "conf_matrix = confusion_matrix(val_predictions.label_ids, val_predictions_labels)\n",
    "disp = ConfusionMatrixDisplay(confusion_matrix=conf_matrix, display_labels = [\"negative\", \"neutral\", \"positive\"],)\n",
    "disp.plot( cmap=\"cividis\")"
   ]
  },
  {
   "cell_type": "code",
   "execution_count": 18,
   "id": "1fe6239d-35ae-439d-a973-d3eab17e8677",
   "metadata": {},
   "outputs": [],
   "source": [
    "data_val = data_val.assign(predictions=pd.Series(val_predictions_labels).values)"
   ]
  },
  {
   "cell_type": "code",
   "execution_count": 19,
   "id": "f6850c25-b1c9-4fed-ab0e-1c00c8664f4b",
   "metadata": {},
   "outputs": [
    {
     "data": {
      "text/html": [
       "<div>\n",
       "<style scoped>\n",
       "    .dataframe tbody tr th:only-of-type {\n",
       "        vertical-align: middle;\n",
       "    }\n",
       "\n",
       "    .dataframe tbody tr th {\n",
       "        vertical-align: top;\n",
       "    }\n",
       "\n",
       "    .dataframe thead th {\n",
       "        text-align: right;\n",
       "    }\n",
       "</style>\n",
       "<table border=\"1\" class=\"dataframe\">\n",
       "  <thead>\n",
       "    <tr style=\"text-align: right;\">\n",
       "      <th></th>\n",
       "      <th>Unnamed: 0</th>\n",
       "      <th>content</th>\n",
       "      <th>sentiment</th>\n",
       "      <th>language</th>\n",
       "      <th>label</th>\n",
       "      <th>predictions</th>\n",
       "    </tr>\n",
       "  </thead>\n",
       "  <tbody>\n",
       "    <tr>\n",
       "      <th>0</th>\n",
       "      <td>19828</td>\n",
       "      <td>Marcelo Rebelo de Sousa e João Lourenço reunid...</td>\n",
       "      <td>neutral</td>\n",
       "      <td>pt</td>\n",
       "      <td>1</td>\n",
       "      <td>1</td>\n",
       "    </tr>\n",
       "    <tr>\n",
       "      <th>1</th>\n",
       "      <td>13131</td>\n",
       "      <td>Did you notice that zero has a karambit knife ...</td>\n",
       "      <td>positive</td>\n",
       "      <td>en</td>\n",
       "      <td>2</td>\n",
       "      <td>0</td>\n",
       "    </tr>\n",
       "    <tr>\n",
       "      <th>2</th>\n",
       "      <td>17486</td>\n",
       "      <td>Page invita a Iceta a defenderle \"ante tanto i...</td>\n",
       "      <td>neutral</td>\n",
       "      <td>es</td>\n",
       "      <td>1</td>\n",
       "      <td>1</td>\n",
       "    </tr>\n",
       "    <tr>\n",
       "      <th>3</th>\n",
       "      <td>5955</td>\n",
       "      <td>Movimento de Mulheres cria aplicação para tele...</td>\n",
       "      <td>neutral</td>\n",
       "      <td>pt</td>\n",
       "      <td>1</td>\n",
       "      <td>1</td>\n",
       "    </tr>\n",
       "    <tr>\n",
       "      <th>4</th>\n",
       "      <td>8126</td>\n",
       "      <td>GLOBAL MARKETS-US stocks rise, push Dow to rec...</td>\n",
       "      <td>neutral</td>\n",
       "      <td>en</td>\n",
       "      <td>1</td>\n",
       "      <td>1</td>\n",
       "    </tr>\n",
       "    <tr>\n",
       "      <th>...</th>\n",
       "      <td>...</td>\n",
       "      <td>...</td>\n",
       "      <td>...</td>\n",
       "      <td>...</td>\n",
       "      <td>...</td>\n",
       "      <td>...</td>\n",
       "    </tr>\n",
       "    <tr>\n",
       "      <th>6245</th>\n",
       "      <td>21682</td>\n",
       "      <td>@ 7anno他是我朋友之一的儿子</td>\n",
       "      <td>positive</td>\n",
       "      <td>zh-cn</td>\n",
       "      <td>2</td>\n",
       "      <td>2</td>\n",
       "    </tr>\n",
       "    <tr>\n",
       "      <th>6246</th>\n",
       "      <td>12555</td>\n",
       "      <td>Kohleausstieg lässt Hausmüllentsorgung möglich...</td>\n",
       "      <td>neutral</td>\n",
       "      <td>de</td>\n",
       "      <td>1</td>\n",
       "      <td>1</td>\n",
       "    </tr>\n",
       "    <tr>\n",
       "      <th>6247</th>\n",
       "      <td>16937</td>\n",
       "      <td>Y’a pas de confort.</td>\n",
       "      <td>negative</td>\n",
       "      <td>es</td>\n",
       "      <td>0</td>\n",
       "      <td>0</td>\n",
       "    </tr>\n",
       "    <tr>\n",
       "      <th>6248</th>\n",
       "      <td>6833</td>\n",
       "      <td>küsülülüyə əvvəlində biz zahirən bağlı obrazl...</td>\n",
       "      <td>negative</td>\n",
       "      <td>tr</td>\n",
       "      <td>0</td>\n",
       "      <td>0</td>\n",
       "    </tr>\n",
       "    <tr>\n",
       "      <th>6249</th>\n",
       "      <td>18693</td>\n",
       "      <td>HP Samsung A9 Pro Bekas Android Ram 6GB Murah ...</td>\n",
       "      <td>neutral</td>\n",
       "      <td>id</td>\n",
       "      <td>1</td>\n",
       "      <td>1</td>\n",
       "    </tr>\n",
       "  </tbody>\n",
       "</table>\n",
       "<p>6250 rows × 6 columns</p>\n",
       "</div>"
      ],
      "text/plain": [
       "      Unnamed: 0                                            content sentiment  \\\n",
       "0          19828  Marcelo Rebelo de Sousa e João Lourenço reunid...   neutral   \n",
       "1          13131  Did you notice that zero has a karambit knife ...  positive   \n",
       "2          17486  Page invita a Iceta a defenderle \"ante tanto i...   neutral   \n",
       "3           5955  Movimento de Mulheres cria aplicação para tele...   neutral   \n",
       "4           8126  GLOBAL MARKETS-US stocks rise, push Dow to rec...   neutral   \n",
       "...          ...                                                ...       ...   \n",
       "6245       21682                                  @ 7anno他是我朋友之一的儿子  positive   \n",
       "6246       12555  Kohleausstieg lässt Hausmüllentsorgung möglich...   neutral   \n",
       "6247       16937                                Y’a pas de confort.  negative   \n",
       "6248        6833   küsülülüyə əvvəlində biz zahirən bağlı obrazl...  negative   \n",
       "6249       18693  HP Samsung A9 Pro Bekas Android Ram 6GB Murah ...   neutral   \n",
       "\n",
       "     language  label  predictions  \n",
       "0          pt      1            1  \n",
       "1          en      2            0  \n",
       "2          es      1            1  \n",
       "3          pt      1            1  \n",
       "4          en      1            1  \n",
       "...       ...    ...          ...  \n",
       "6245    zh-cn      2            2  \n",
       "6246       de      1            1  \n",
       "6247       es      0            0  \n",
       "6248       tr      0            0  \n",
       "6249       id      1            1  \n",
       "\n",
       "[6250 rows x 6 columns]"
      ]
     },
     "execution_count": 19,
     "metadata": {},
     "output_type": "execute_result"
    }
   ],
   "source": [
    "data_val"
   ]
  },
  {
   "cell_type": "code",
   "execution_count": 20,
   "id": "27d95a63-7267-4cf8-b233-e0a19211a1bf",
   "metadata": {},
   "outputs": [],
   "source": [
    "results_by_language = []\n",
    "for language in set(data_val.language):\n",
    "    data = data_val[data_val.language == language]\n",
    "    results_by_language.append((language,  metric.compute(predictions=data.predictions, references=data.label)[\"accuracy\"], len(data)))\n",
    "results_by_language = pd.DataFrame(results_by_language, columns=[\"language\", \"accuracy\", \"size\"]).sort_values(\"size\")[::-1]"
   ]
  },
  {
   "cell_type": "code",
   "execution_count": 21,
   "id": "729341d3-28b2-40b4-ad51-8d7b60438a5b",
   "metadata": {},
   "outputs": [
    {
     "data": {
      "text/html": [
       "<div>\n",
       "<style scoped>\n",
       "    .dataframe tbody tr th:only-of-type {\n",
       "        vertical-align: middle;\n",
       "    }\n",
       "\n",
       "    .dataframe tbody tr th {\n",
       "        vertical-align: top;\n",
       "    }\n",
       "\n",
       "    .dataframe thead th {\n",
       "        text-align: right;\n",
       "    }\n",
       "</style>\n",
       "<table border=\"1\" class=\"dataframe\">\n",
       "  <thead>\n",
       "    <tr style=\"text-align: right;\">\n",
       "      <th></th>\n",
       "      <th>language</th>\n",
       "      <th>accuracy</th>\n",
       "      <th>size</th>\n",
       "    </tr>\n",
       "  </thead>\n",
       "  <tbody>\n",
       "    <tr>\n",
       "      <th>9</th>\n",
       "      <td>en</td>\n",
       "      <td>0.837675</td>\n",
       "      <td>998</td>\n",
       "    </tr>\n",
       "    <tr>\n",
       "      <th>18</th>\n",
       "      <td>id</td>\n",
       "      <td>0.905000</td>\n",
       "      <td>800</td>\n",
       "    </tr>\n",
       "    <tr>\n",
       "      <th>49</th>\n",
       "      <td>ru</td>\n",
       "      <td>0.935687</td>\n",
       "      <td>793</td>\n",
       "    </tr>\n",
       "    <tr>\n",
       "      <th>17</th>\n",
       "      <td>ar</td>\n",
       "      <td>0.867965</td>\n",
       "      <td>462</td>\n",
       "    </tr>\n",
       "    <tr>\n",
       "      <th>19</th>\n",
       "      <td>fr</td>\n",
       "      <td>0.863747</td>\n",
       "      <td>411</td>\n",
       "    </tr>\n",
       "    <tr>\n",
       "      <th>22</th>\n",
       "      <td>es</td>\n",
       "      <td>0.898413</td>\n",
       "      <td>315</td>\n",
       "    </tr>\n",
       "    <tr>\n",
       "      <th>3</th>\n",
       "      <td>pt</td>\n",
       "      <td>0.899329</td>\n",
       "      <td>298</td>\n",
       "    </tr>\n",
       "    <tr>\n",
       "      <th>41</th>\n",
       "      <td>ko</td>\n",
       "      <td>0.836364</td>\n",
       "      <td>275</td>\n",
       "    </tr>\n",
       "    <tr>\n",
       "      <th>13</th>\n",
       "      <td>zh-cn</td>\n",
       "      <td>0.745455</td>\n",
       "      <td>220</td>\n",
       "    </tr>\n",
       "    <tr>\n",
       "      <th>28</th>\n",
       "      <td>ja</td>\n",
       "      <td>0.856354</td>\n",
       "      <td>181</td>\n",
       "    </tr>\n",
       "    <tr>\n",
       "      <th>50</th>\n",
       "      <td>de</td>\n",
       "      <td>0.852349</td>\n",
       "      <td>149</td>\n",
       "    </tr>\n",
       "    <tr>\n",
       "      <th>40</th>\n",
       "      <td>it</td>\n",
       "      <td>0.857143</td>\n",
       "      <td>140</td>\n",
       "    </tr>\n",
       "    <tr>\n",
       "      <th>34</th>\n",
       "      <td>th</td>\n",
       "      <td>0.900901</td>\n",
       "      <td>111</td>\n",
       "    </tr>\n",
       "    <tr>\n",
       "      <th>26</th>\n",
       "      <td>tr</td>\n",
       "      <td>0.906667</td>\n",
       "      <td>75</td>\n",
       "    </tr>\n",
       "    <tr>\n",
       "      <th>32</th>\n",
       "      <td>so</td>\n",
       "      <td>0.702703</td>\n",
       "      <td>74</td>\n",
       "    </tr>\n",
       "    <tr>\n",
       "      <th>6</th>\n",
       "      <td>tl</td>\n",
       "      <td>0.738462</td>\n",
       "      <td>65</td>\n",
       "    </tr>\n",
       "    <tr>\n",
       "      <th>12</th>\n",
       "      <td>vi</td>\n",
       "      <td>0.862069</td>\n",
       "      <td>58</td>\n",
       "    </tr>\n",
       "    <tr>\n",
       "      <th>27</th>\n",
       "      <td>pl</td>\n",
       "      <td>0.913043</td>\n",
       "      <td>46</td>\n",
       "    </tr>\n",
       "    <tr>\n",
       "      <th>4</th>\n",
       "      <td>et</td>\n",
       "      <td>0.840909</td>\n",
       "      <td>44</td>\n",
       "    </tr>\n",
       "    <tr>\n",
       "      <th>7</th>\n",
       "      <td>nl</td>\n",
       "      <td>0.909091</td>\n",
       "      <td>44</td>\n",
       "    </tr>\n",
       "    <tr>\n",
       "      <th>47</th>\n",
       "      <td>ro</td>\n",
       "      <td>0.900000</td>\n",
       "      <td>40</td>\n",
       "    </tr>\n",
       "    <tr>\n",
       "      <th>42</th>\n",
       "      <td>uk</td>\n",
       "      <td>0.925000</td>\n",
       "      <td>40</td>\n",
       "    </tr>\n",
       "    <tr>\n",
       "      <th>20</th>\n",
       "      <td>bn</td>\n",
       "      <td>0.736842</td>\n",
       "      <td>38</td>\n",
       "    </tr>\n",
       "    <tr>\n",
       "      <th>51</th>\n",
       "      <td>bg</td>\n",
       "      <td>0.864865</td>\n",
       "      <td>37</td>\n",
       "    </tr>\n",
       "    <tr>\n",
       "      <th>29</th>\n",
       "      <td>hi</td>\n",
       "      <td>0.882353</td>\n",
       "      <td>34</td>\n",
       "    </tr>\n",
       "    <tr>\n",
       "      <th>10</th>\n",
       "      <td>fa</td>\n",
       "      <td>0.696970</td>\n",
       "      <td>33</td>\n",
       "    </tr>\n",
       "    <tr>\n",
       "      <th>2</th>\n",
       "      <td>ca</td>\n",
       "      <td>0.875000</td>\n",
       "      <td>32</td>\n",
       "    </tr>\n",
       "    <tr>\n",
       "      <th>39</th>\n",
       "      <td>cs</td>\n",
       "      <td>0.967742</td>\n",
       "      <td>31</td>\n",
       "    </tr>\n",
       "    <tr>\n",
       "      <th>45</th>\n",
       "      <td>gu</td>\n",
       "      <td>0.774194</td>\n",
       "      <td>31</td>\n",
       "    </tr>\n",
       "    <tr>\n",
       "      <th>21</th>\n",
       "      <td>zh-tw</td>\n",
       "      <td>0.666667</td>\n",
       "      <td>30</td>\n",
       "    </tr>\n",
       "    <tr>\n",
       "      <th>36</th>\n",
       "      <td>sv</td>\n",
       "      <td>0.900000</td>\n",
       "      <td>30</td>\n",
       "    </tr>\n",
       "    <tr>\n",
       "      <th>43</th>\n",
       "      <td>fi</td>\n",
       "      <td>0.777778</td>\n",
       "      <td>27</td>\n",
       "    </tr>\n",
       "    <tr>\n",
       "      <th>33</th>\n",
       "      <td>ml</td>\n",
       "      <td>0.739130</td>\n",
       "      <td>23</td>\n",
       "    </tr>\n",
       "    <tr>\n",
       "      <th>38</th>\n",
       "      <td>sk</td>\n",
       "      <td>0.956522</td>\n",
       "      <td>23</td>\n",
       "    </tr>\n",
       "    <tr>\n",
       "      <th>15</th>\n",
       "      <td>mk</td>\n",
       "      <td>0.714286</td>\n",
       "      <td>21</td>\n",
       "    </tr>\n",
       "    <tr>\n",
       "      <th>8</th>\n",
       "      <td>he</td>\n",
       "      <td>0.736842</td>\n",
       "      <td>19</td>\n",
       "    </tr>\n",
       "    <tr>\n",
       "      <th>5</th>\n",
       "      <td>da</td>\n",
       "      <td>0.736842</td>\n",
       "      <td>19</td>\n",
       "    </tr>\n",
       "    <tr>\n",
       "      <th>11</th>\n",
       "      <td>lt</td>\n",
       "      <td>0.888889</td>\n",
       "      <td>18</td>\n",
       "    </tr>\n",
       "    <tr>\n",
       "      <th>31</th>\n",
       "      <td>undetected</td>\n",
       "      <td>0.705882</td>\n",
       "      <td>17</td>\n",
       "    </tr>\n",
       "    <tr>\n",
       "      <th>46</th>\n",
       "      <td>no</td>\n",
       "      <td>0.705882</td>\n",
       "      <td>17</td>\n",
       "    </tr>\n",
       "    <tr>\n",
       "      <th>30</th>\n",
       "      <td>ta</td>\n",
       "      <td>0.875000</td>\n",
       "      <td>16</td>\n",
       "    </tr>\n",
       "    <tr>\n",
       "      <th>1</th>\n",
       "      <td>hu</td>\n",
       "      <td>0.866667</td>\n",
       "      <td>15</td>\n",
       "    </tr>\n",
       "    <tr>\n",
       "      <th>24</th>\n",
       "      <td>el</td>\n",
       "      <td>1.000000</td>\n",
       "      <td>15</td>\n",
       "    </tr>\n",
       "    <tr>\n",
       "      <th>16</th>\n",
       "      <td>sw</td>\n",
       "      <td>0.642857</td>\n",
       "      <td>14</td>\n",
       "    </tr>\n",
       "    <tr>\n",
       "      <th>14</th>\n",
       "      <td>ur</td>\n",
       "      <td>0.692308</td>\n",
       "      <td>13</td>\n",
       "    </tr>\n",
       "    <tr>\n",
       "      <th>23</th>\n",
       "      <td>af</td>\n",
       "      <td>0.692308</td>\n",
       "      <td>13</td>\n",
       "    </tr>\n",
       "    <tr>\n",
       "      <th>0</th>\n",
       "      <td>cy</td>\n",
       "      <td>0.666667</td>\n",
       "      <td>12</td>\n",
       "    </tr>\n",
       "    <tr>\n",
       "      <th>35</th>\n",
       "      <td>hr</td>\n",
       "      <td>0.750000</td>\n",
       "      <td>12</td>\n",
       "    </tr>\n",
       "    <tr>\n",
       "      <th>44</th>\n",
       "      <td>sl</td>\n",
       "      <td>0.500000</td>\n",
       "      <td>10</td>\n",
       "    </tr>\n",
       "    <tr>\n",
       "      <th>37</th>\n",
       "      <td>lv</td>\n",
       "      <td>1.000000</td>\n",
       "      <td>5</td>\n",
       "    </tr>\n",
       "    <tr>\n",
       "      <th>25</th>\n",
       "      <td>sq</td>\n",
       "      <td>0.800000</td>\n",
       "      <td>5</td>\n",
       "    </tr>\n",
       "    <tr>\n",
       "      <th>48</th>\n",
       "      <td>mr</td>\n",
       "      <td>1.000000</td>\n",
       "      <td>1</td>\n",
       "    </tr>\n",
       "  </tbody>\n",
       "</table>\n",
       "</div>"
      ],
      "text/plain": [
       "      language  accuracy  size\n",
       "9           en  0.837675   998\n",
       "18          id  0.905000   800\n",
       "49          ru  0.935687   793\n",
       "17          ar  0.867965   462\n",
       "19          fr  0.863747   411\n",
       "22          es  0.898413   315\n",
       "3           pt  0.899329   298\n",
       "41          ko  0.836364   275\n",
       "13       zh-cn  0.745455   220\n",
       "28          ja  0.856354   181\n",
       "50          de  0.852349   149\n",
       "40          it  0.857143   140\n",
       "34          th  0.900901   111\n",
       "26          tr  0.906667    75\n",
       "32          so  0.702703    74\n",
       "6           tl  0.738462    65\n",
       "12          vi  0.862069    58\n",
       "27          pl  0.913043    46\n",
       "4           et  0.840909    44\n",
       "7           nl  0.909091    44\n",
       "47          ro  0.900000    40\n",
       "42          uk  0.925000    40\n",
       "20          bn  0.736842    38\n",
       "51          bg  0.864865    37\n",
       "29          hi  0.882353    34\n",
       "10          fa  0.696970    33\n",
       "2           ca  0.875000    32\n",
       "39          cs  0.967742    31\n",
       "45          gu  0.774194    31\n",
       "21       zh-tw  0.666667    30\n",
       "36          sv  0.900000    30\n",
       "43          fi  0.777778    27\n",
       "33          ml  0.739130    23\n",
       "38          sk  0.956522    23\n",
       "15          mk  0.714286    21\n",
       "8           he  0.736842    19\n",
       "5           da  0.736842    19\n",
       "11          lt  0.888889    18\n",
       "31  undetected  0.705882    17\n",
       "46          no  0.705882    17\n",
       "30          ta  0.875000    16\n",
       "1           hu  0.866667    15\n",
       "24          el  1.000000    15\n",
       "16          sw  0.642857    14\n",
       "14          ur  0.692308    13\n",
       "23          af  0.692308    13\n",
       "0           cy  0.666667    12\n",
       "35          hr  0.750000    12\n",
       "44          sl  0.500000    10\n",
       "37          lv  1.000000     5\n",
       "25          sq  0.800000     5\n",
       "48          mr  1.000000     1"
      ]
     },
     "execution_count": 21,
     "metadata": {},
     "output_type": "execute_result"
    }
   ],
   "source": [
    "results_by_language"
   ]
  },
  {
   "cell_type": "markdown",
   "id": "e8e8ac90-3708-4935-8d64-1a13ded2283f",
   "metadata": {},
   "source": [
    "## Results on the main languages"
   ]
  },
  {
   "cell_type": "code",
   "execution_count": 22,
   "id": "584d49aa-5893-4a39-af3c-2f5015ecffb4",
   "metadata": {},
   "outputs": [],
   "source": [
    "main_languages = [\"en\", \"id\", \"ru\", \"ar\", \"fr\", \"es\", \"pt\", \"ko\", \"zh-cn\", \"ja\", \"de\", \"it\", \"th\", \"tr\"]"
   ]
  },
  {
   "cell_type": "code",
   "execution_count": 23,
   "id": "83265c87-dfa1-48e1-b36a-bb17ce1c973e",
   "metadata": {},
   "outputs": [
    {
     "data": {
      "text/plain": [
       "{'accuracy': 0.8747130833970925}"
      ]
     },
     "execution_count": 23,
     "metadata": {},
     "output_type": "execute_result"
    }
   ],
   "source": [
    " metric.compute(predictions=data_val[data_val.language.isin(main_languages)].predictions, references=data_val[data_val.language.isin(main_languages)].label)"
   ]
  },
  {
   "cell_type": "code",
   "execution_count": 24,
   "id": "db1530ac-6465-429a-a80b-a3d7b4e78ba3",
   "metadata": {},
   "outputs": [
    {
     "data": {
      "text/plain": [
       "<sklearn.metrics._plot.confusion_matrix.ConfusionMatrixDisplay at 0x23eaa5e4d00>"
      ]
     },
     "execution_count": 24,
     "metadata": {},
     "output_type": "execute_result"
    },
    {
     "data": {
      "image/png": "[encoded data removed]",
      "text/plain": [
       "<Figure size 432x288 with 2 Axes>"
      ]
     },
     "metadata": {
      "needs_background": "light"
     },
     "output_type": "display_data"
    }
   ],
   "source": [
    "conf_matrix = confusion_matrix(data_val[data_val.language.isin(main_languages)].label, data_val[data_val.language.isin(main_languages)].predictions)\n",
    "disp = ConfusionMatrixDisplay(confusion_matrix=conf_matrix, display_labels = [\"negative\", \"neutral\", \"positive\"],)\n",
    "disp.plot( cmap=\"cividis\")"
   ]
  },
  {
   "cell_type": "markdown",
   "id": "9fc312a6-cc92-4aaf-9c42-fea5fb89d49a",
   "metadata": {},
   "source": [
    "## Anlayse results"
   ]
  },
  {
   "cell_type": "markdown",
   "id": "3cf5cd3b-ccbb-4bc7-8b92-e446d1fde460",
   "metadata": {},
   "source": [
    "Let's see what element have been misclassified"
   ]
  },
  {
   "cell_type": "markdown",
   "id": "88b4bd04-63c4-4f7d-ba05-dace4ace9aef",
   "metadata": {},
   "source": [
    "### Positive classified as negative"
   ]
  },
  {
   "cell_type": "code",
   "execution_count": 25,
   "id": "1d804530-4c5a-4784-a2f1-f49bf1ad8438",
   "metadata": {},
   "outputs": [
    {
     "name": "stdout",
     "output_type": "stream",
     "text": [
      "Did you notice that zero has a karambit knife and also that they changed the number 1 in the scoreboard and timer\n",
      " Smackgobbed?  New word for me...gonna start using all the time now.  \n",
      "Anime Saturday about to start. New episode of bleach.  Yea \n",
      "So tired. Finally getting some sleep. Nighty \n",
      "If it was up to me I would give more berry's it is tottly not cool having to buy your eggs with berries I mean for real not cool update it a lift will you.\n",
      "just came from the most romantic wedding ever. the groom almost cried, which made everyone else almost cry \n",
      "핸드폰 전체 세팅에서 말고 앱 내에서 개인이나 단톡방 알림끄기하면 소리는 안나는데 배너는 계속떠요. 아예 메세지가 안온거처럼 안뜨고 들어갈경우에만 받은 메세지가 보였으면 좋겠네요 Once i turn off the notification of a person/ group, as long as I don't check messages, i wish i do not see any notification(banner) and also number of accumulated messages on the list.\n",
      "8 cm dilated and her water just broke. Getting closer \n",
      "Still thinking of Moscato, sigh... \n",
      "Tomorrow Demi in Madrid  I didn't win the concert to meet her LOL!\n",
      "is going to look at guitars tomorrow... woo for having money and working 2 public holidays in the next week \n",
      " typical metro, can't even get that right. \n",
      "chrome falling off or missing on a steel stand and poor stainless steel quality made utensils , returned for refund\n",
      " I am in bed.  \n",
      "u will liv the app I'm not going to spoil it but your going to have to get it to s33\n",
      " will you vome to spain? \n",
      "For No Reason Pou Can Die.\n",
      "in France tmrw \n",
      " [br] Ah! Yes. The competition is ending soon. You have just as much chance as everyone else. There's no tomfoolery in our comps \n",
      "I love Birkenstock Arizona sandals and have been wearing them for nearly 20 years. I recently bought a pair of them in HABANA LEATHER and the sandals delivered do not match the color of the picture. The shade of brown is quite different.\n",
      " Yes very kind of him to do that for such a pain in the arse like me! \n",
      "I'm still here, sorry I haven't signed on in a while, just been really busy. \n",
      " No. Wally-World is the root of all evil. Costco is not to be feared. \n",
      "It was in the 30's last night but I dom't think it hurt anything. The elephant ears are still standing \n",
      " Not me. I'm as pure as the snow. But I drifted. \n",
      "I clocked out early! \n",
      " lol i cant w8 till yoiur film out on friday  is it any good?\n",
      " oh what happened?? \n",
      "DH has just run away from his pc saying that twitter is too addictive lmao - then the sound for new message went and he came running back \n",
      " aww dont make me blush!\n",
      "is going to the SKINS party on the 2nd of May  wicked!!!\n",
      "downloaded it on a whim before going out the door, the only thing I don't like about it is the constant ads for games I've already downloaded and twitter requests before or after every game.\n",
      "Ahhhhh.... Back to work.     *BreBre.net*\n",
      " No invit'. You have to follow the smell of hickory and pork fat on hot coals.  Next time maybe?\n",
      "eeeee my first follower  can't concentrate on the essay.\n",
      "Pre-pandemic top vaccine companies, and where they are in COVID-19 race: $AZN (out in UK) $GSK (partner w/Sanofi, delayed) $JNJ (coming soon) $MRK (dropped out) $PFE (succeeded via small biotech partner), $SNY (partner w/GSK; delayed) (partner w/Pfizer to manufacture BNT162b2)\n",
      " Try to sport once and awhile instead of sitting behind your computer \n",
      " no not the bbc link? but have been looking at the changes, thanx hope ur well \n",
      " IMO trad segmenting in communities is not very useful \n",
      " stupid phone! It's about zune covers and designs  New ones are out for spring \n",
      " hahas sucks to be you \n",
      " must have been one heck of a cloud because it's falling here \n"
     ]
    },
    {
     "name": "stderr",
     "output_type": "stream",
     "text": [
      "C:\\Users\\Louis\\AppData\\Local\\Temp/ipykernel_15852/4078927634.py:1: UserWarning: Boolean Series key will be reindexed to match DataFrame index.\n",
      "  for sentence in data_val[data_val.language==\"en\"][data_val.label==2][data_val.predictions==0].content:\n"
     ]
    }
   ],
   "source": [
    "for sentence in data_val[data_val.language==\"en\"][data_val.label==2][data_val.predictions==0].content:\n",
    "    print(sentence)"
   ]
  },
  {
   "cell_type": "markdown",
   "id": "abb2629c-6c2a-4805-96ac-3dc51eefac77",
   "metadata": {},
   "source": [
    "  "
   ]
  },
  {
   "cell_type": "markdown",
   "id": "1efb3636-32a9-499d-901d-ff60ad301ed7",
   "metadata": {
    "tags": []
   },
   "source": [
    " From what we can see, these wrongly classified sentences are not obviously positive. Example : \"hahas sucks to be you\""
   ]
  },
  {
   "cell_type": "markdown",
   "id": "4390a689-3e83-4fc2-8b3c-65478e6c485e",
   "metadata": {},
   "source": [
    "### Negative classified as positive"
   ]
  },
  {
   "cell_type": "code",
   "execution_count": 26,
   "id": "d0a06f37-2f85-44b1-afc2-9630bfca7285",
   "metadata": {},
   "outputs": [
    {
     "name": "stdout",
     "output_type": "stream",
     "text": [
      "off to college  bleurgh\n",
      "I know, I know, it's exactly like mine craft. But, IT KEEPS FREEZING!!!!!!!!!! You might think it is just nothing, but trust me, it freezes all the time. I hardly get the time to play it. I'd give it 0 stars if I could.\n",
      "Rest in peace, Ping. Best hamster ever. 2007-2009 \n",
      "It's a fucking holiday. I promise this will be my last day with this bank\n",
      "     Mine are grown -- does reading to your dogs count?  :-D\n",
      "off for a shower. i hope i drown... im so depressed right now  thanks a lot sharks\n",
      "_ I think Iï¿½ll end up going alone  But I will see it at some point...\n",
      "At Gatwick. Watch on BST, body 8 hours behind on PDT \n",
      " Thanks. 7:30 here in CA but not on Versus. \n",
      "Can't believe she's up this early on a Sunday \n",
      " omg you poooooor thing!!!!  don't worry you can use my itunes or something.....\n",
      " yeah got it, but was on my way with hubby to garage etc. \n",
      "it's beautiful out, and i have a 30 page outline to do \n",
      "Couldn't be happier with this application. Lots of good tools easy to use once you get used to the interface. Not something that your young kids would like, because the interface is somewhat complicated.\n",
      "Snow mounted up to a couple of inches overnight, very pretty but I hope I don't lose my peaches, tree was in bloom \n",
      "loves sleep... wishing I was back there \n",
      "I took in 52 hardbound books by James Patterson and Lee Child that were in very good to excellent condition and was paid 27 cents per book. Yes, 27 cents per book. .\n",
      "had quite a productive day doing art work. not much left to do now! have to go to a r.s revision session tomorrow  school in holidays!!\n",
      "Just had a lovely avacado, bacon and chicken baguette - now time for more work \n",
      "   I'm afraid the Trekkies have all the glory now. It's like we're back in the early '90s. \n",
      "Play Forces of War. Its better and it cane out first. World War= (TURD) Forces of War= OYUS FORCES OF WAR NIGG@@@@@\n",
      "Its beautiful\n",
      " Great idea with the iTunes promo codes - they don't work in the UK iTunes store though \n",
      "Topic : Illusions of Greatness Went from we thought we were Elite, to average, to mediocrity and in 2020 just plain pathetic disgrace! RT _Coverage: Episode Alert  March 17th, Wednesday, its Penn State Nittany Lions Talk! Tune in to hear about 20', 21', & 22' #WeAreWednesday #PennStateFootball #PSU #WeAre #Big10 #CFB #NittanyLions #HappyValley _PSU On all listening streams!\n",
      "I have installed this game 3 times now and still have not been able to play. it just keeps going to force close on kindle fire. 1 star for teasing me with looks it would be a good game.\n",
      "So sleepy this morning!  \n",
      "Wish they'd stop laying people off. My 9-5 is becoming a 6-10. \n",
      "I tried it in several foods. It just wasn't for me. I gave it to my daughter who is a health nut. I suggest someone to make it known that it is a strong taste that if you don't like it you will not use it.\n",
      " Congrats!!  i totally forgot to submit photos \n",
      "$2.82 for a bagel with plain cream cheese & rude waitress  - Thank you New York Bagel! You just gave me the perfect excuse to save my wallet and my waistline!!!............. or maybe I'll go to Basha's for $1.20 for just as good a bagel & down home smile & friendly service\n",
      "Just good..\n",
      "My following, followers and updates were all multiples on 10 just now. Now I'm uneasy as 2 are uneven \n",
      "is ready for bed, tons of work later \n",
      "I can't smell anything coming from this at all. I was very disappointed. The spray one is great; very refreshing and calming for bedtime.\n",
      "Weekend like this I should be at Killington \n",
      "Fridge shopping 2day.....YUCK! \n",
      "_harvey RIP Budgie  &quot;Sleep now little one, in a feathery heap. No longer going cheep.&quot;\n",
      "plss add scrobling\n",
      "Seeing 15 huge workitems come by in my rss reader. Thought they were commit messages. Turns out they're just new trac tickets \n",
      "Not a bad game except for the fact that the steering is all jacked up. its hard to control the car with the arrows and the tilt type is backwards. I try to turn left amenity goes right.\n",
      "Ring Relief indeed.  Perhaps the ring of the cash register is what they meant?  I've used the product faithfully for over 60 days (they recommend giving it 45 days) and other than improving my aim of getting drops into my ear canal I've received no other benefit from this product.Don't waste your time and money on it.\n",
      " All i'll say about Wolverine is that I had severe brain pain on walking out of that movie.. it started pretty awesome \n",
      ": How is chap stiques knee? \n",
      "bout to go to bed, without her baebe  ... but she had a good time with her #1 tonight!!!\n",
      "Always had good fried chicken from Frank's in the past but not tonight.  The chicken breasts were the size of the buffalo wings.\n",
      "\n",
      "Make sure you check your order before you leave.\n",
      "Wow. ...s'posed to go to the Dudie's Burger Festival thing today...but it looks like thunderstorm weather.  Maybe it will clear up, eh?\n",
      " word? Me too. Condolences \n",
      "UR SUGAR 7.5ml Acrylic Poly Extension Quick Building Gel Polish Clear Pink UV Gel Colis reçu au bout d’un mois.\n",
      "Total freak in 3 a.m\n",
      " Aww Ate Lois ?  Bawiin mo na lang sa 18th birthday. :&gt; :&gt; I bet it would be really fun. :&gt;\n",
      " The old ones don't give me any problems, it's the new fast-growing hybrid ones that are out of control. \n",
      "I should send Apple an angry email along the lines of &quot;Hey d-bags, 'we fixed your computer' generally means you actually did something.&quot;. \n",
      " i thinkk you guys should take a picture. and @ reply it to me in a twitpic because i love you both of u to death. miss u \n",
      "_ i spent a whole summer with them two years ago before they got big. I see them every now and then. Havent heard them play in awhile \n"
     ]
    },
    {
     "name": "stderr",
     "output_type": "stream",
     "text": [
      "C:\\Users\\Louis\\AppData\\Local\\Temp/ipykernel_15852/4193792728.py:1: UserWarning: Boolean Series key will be reindexed to match DataFrame index.\n",
      "  for sentence in data_val[data_val.language==\"en\"][data_val.label==0][data_val.predictions==2].content:\n"
     ]
    }
   ],
   "source": [
    "for sentence in data_val[data_val.language==\"en\"][data_val.label==0][data_val.predictions==2].content:\n",
    "    print(sentence)"
   ]
  },
  {
   "cell_type": "markdown",
   "id": "02915993-adec-4ba7-8d84-f539729a86f8",
   "metadata": {},
   "source": [
    "Same conclusion here, some texts are not obviously negative."
   ]
  },
  {
   "cell_type": "code",
   "execution_count": null,
   "id": "f1b189d8-57c3-4a61-8ba3-17d07b713e59",
   "metadata": {},
   "outputs": [],
   "source": []
  }
 ],
 "metadata": {
  "kernelspec": {
   "display_name": "Python 3 (ipykernel)",
   "language": "python",
   "name": "python3"
  },
  "language_info": {
   "codemirror_mode": {
    "name": "ipython",
    "version": 3
   },
   "file_extension": ".py",
   "mimetype": "text/x-python",
   "name": "python",
   "nbconvert_exporter": "python",
   "pygments_lexer": "ipython3",
   "version": "3.9.7"
  }
 },
 "nbformat": 4,
 "nbformat_minor": 5
}
