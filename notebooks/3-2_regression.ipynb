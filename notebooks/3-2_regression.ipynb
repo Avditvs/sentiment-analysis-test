{
 "cells": [
  {
   "cell_type": "markdown",
   "id": "3822c09c-96c5-4f2b-ab44-332df7ea1259",
   "metadata": {},
   "source": [
    "# Results Regression"
   ]
  },
  {
   "cell_type": "code",
   "execution_count": 1,
   "id": "19f66bf3-25dc-4491-a57e-976e8d57a571",
   "metadata": {},
   "outputs": [],
   "source": [
    "import os\n",
    "import sys\n",
    "\n",
    "sys.path.append('../')\n",
    "\n",
    "import torch\n",
    "import pandas as pd\n",
    "import numpy as np\n",
    "from tqdm import tqdm\n",
    "from matplotlib import pyplot as plt\n",
    "from collections import Counter\n",
    "import langdetect\n",
    "import random\n",
    "import re\n",
    "from sklearn.model_selection import train_test_split\n",
    "\n",
    "from utils.preprocessing import clean_dataset"
   ]
  },
  {
   "cell_type": "code",
   "execution_count": 2,
   "id": "fbdc3991-9c43-4920-a0ad-ff2e1afeaad3",
   "metadata": {},
   "outputs": [],
   "source": [
    "DATA_DIR = \"../data\"\n",
    "data_train = pd.read_csv(os.path.join(DATA_DIR, \"train_cleaned.csv\"), na_filter=False)\n",
    "data_val = pd.read_csv(os.path.join(DATA_DIR, \"val_cleaned.csv\"), na_filter=False)"
   ]
  },
  {
   "cell_type": "code",
   "execution_count": 3,
   "id": "acc76383-d396-418c-a967-71b209483a8e",
   "metadata": {},
   "outputs": [],
   "source": [
    "from transformers import AutoTokenizer, AutoModelForSequenceClassification\n",
    "from transformers import InputExample, InputFeatures\n",
    "from transformers import TrainingArguments\n",
    "from transformers import Trainer\n",
    "import torch\n",
    "from datasets import load_metric\n",
    "\n",
    "from utils.classes import SentimentDataset\n",
    "from utils.preprocessing import make_labels, tokenize"
   ]
  },
  {
   "cell_type": "code",
   "execution_count": 4,
   "id": "c9987800-2ae3-4e91-8791-d25d5c3445c8",
   "metadata": {},
   "outputs": [],
   "source": [
    "MODEL = \"xlm-roberta-base\"\n",
    "MODEL_PRETRAINED = \"../models/xlm_roberta_regress/checkpoint-3516\"\n",
    "model = AutoModelForSequenceClassification.from_pretrained(MODEL_PRETRAINED, num_labels=1)\n",
    "tokenizer = AutoTokenizer.from_pretrained(MODEL)"
   ]
  },
  {
   "cell_type": "code",
   "execution_count": 5,
   "id": "8e8b4651-6631-4410-b730-b71831046152",
   "metadata": {},
   "outputs": [],
   "source": [
    "X_train = tokenize(tokenizer, data_train.content)\n",
    "X_val = tokenize(tokenizer, data_val.content)\n",
    "y_train = data_train.sentiment\n",
    "y_val = data_val.sentiment"
   ]
  },
  {
   "cell_type": "code",
   "execution_count": 6,
   "id": "3beb9a98-fca4-4f5a-905c-a7eee09ad61f",
   "metadata": {},
   "outputs": [],
   "source": [
    "y_train_labels = make_labels(y_train, regress=True)\n",
    "y_val_labels = make_labels(y_val, regress=True)"
   ]
  },
  {
   "cell_type": "code",
   "execution_count": 7,
   "id": "bf6c5cb5-477d-4f1a-a346-130a54496405",
   "metadata": {},
   "outputs": [],
   "source": [
    "train_dataset_torch = SentimentDataset(X_train, y_train_labels)\n",
    "val_dataset_torch = SentimentDataset(X_val, y_val_labels)"
   ]
  },
  {
   "cell_type": "code",
   "execution_count": 8,
   "id": "f9d64872-2f61-4525-800d-e130f908bbb3",
   "metadata": {},
   "outputs": [],
   "source": [
    "metric = load_metric(\"accuracy\")"
   ]
  },
  {
   "cell_type": "code",
   "execution_count": 9,
   "id": "312d004a-95fb-477b-9d8c-b5b852140330",
   "metadata": {},
   "outputs": [],
   "source": [
    "def compute_metrics(eval_pred):\n",
    "    logits, labels = eval_pred\n",
    "    predictions = np.argmax(logits, axis=-1)\n",
    "    return metric.compute(predictions=predictions, references=labels)"
   ]
  },
  {
   "cell_type": "code",
   "execution_count": 10,
   "id": "9ef66290-8b3a-441a-91f8-eff0f8570e70",
   "metadata": {},
   "outputs": [],
   "source": [
    "training_args = TrainingArguments(\n",
    "    \"bert_base_uncased_classif\",\n",
    "    per_device_train_batch_size=1,\n",
    "    per_device_eval_batch_size=32,\n",
    "    gradient_accumulation_steps=32,\n",
    "    fp16 = True,\n",
    "    fp16_opt_level = 'O1',\n",
    "    evaluation_strategy = 'epoch',\n",
    "    save_strategy=\"epoch\",\n",
    "    num_train_epochs=4\n",
    "    \n",
    ")"
   ]
  },
  {
   "cell_type": "code",
   "execution_count": 11,
   "id": "d7356b9f-a186-4e85-a430-71d21d1cd04f",
   "metadata": {},
   "outputs": [
    {
     "name": "stderr",
     "output_type": "stream",
     "text": [
      "Using amp fp16 backend\n"
     ]
    }
   ],
   "source": [
    "trainer = Trainer(\n",
    "    model=model,\n",
    "    args=training_args,\n",
    "    train_dataset=train_dataset_torch,\n",
    "    eval_dataset=val_dataset_torch,\n",
    "    compute_metrics=compute_metrics\n",
    ")"
   ]
  },
  {
   "cell_type": "code",
   "execution_count": 12,
   "id": "397c0e37-8fb4-4d99-8422-9749604c15d7",
   "metadata": {},
   "outputs": [
    {
     "name": "stderr",
     "output_type": "stream",
     "text": [
      "***** Running Prediction *****\n",
      "  Num examples = 18750\n",
      "  Batch size = 32\n"
     ]
    },
    {
     "data": {
      "text/html": [
       "\n",
       "    <div>\n",
       "      \n",
       "      <progress value='1370' max='586' style='width:300px; height:20px; vertical-align: middle;'></progress>\n",
       "      [586/586 02:08]\n",
       "    </div>\n",
       "    "
      ],
      "text/plain": [
       "<IPython.core.display.HTML object>"
      ]
     },
     "metadata": {},
     "output_type": "display_data"
    }
   ],
   "source": [
    "train_predictions = trainer.predict(train_dataset_torch)"
   ]
  },
  {
   "cell_type": "markdown",
   "id": "b873bbd4-038e-49e6-85ca-ef0e7def9bf2",
   "metadata": {},
   "source": [
    "### Analysis of the test results for each class"
   ]
  },
  {
   "cell_type": "code",
   "execution_count": 13,
   "id": "26fbe5a8-3b1c-4cbc-a315-b9050b29cab2",
   "metadata": {},
   "outputs": [],
   "source": [
    "train_negative = data_train[data_train.sentiment==\"negative\"]\n",
    "train_positive = data_train[data_train.sentiment==\"positive\"]\n",
    "train_neutral = data_train[data_train.sentiment==\"neutral\"]"
   ]
  },
  {
   "cell_type": "code",
   "execution_count": 14,
   "id": "a341acc7-2c15-4937-a297-be3cdc25e3cc",
   "metadata": {},
   "outputs": [],
   "source": [
    "x_negative = tokenize(tokenizer, train_negative.content)\n",
    "x_positive = tokenize(tokenizer, train_positive.content)\n",
    "x_neutral = tokenize(tokenizer, train_neutral.content)"
   ]
  },
  {
   "cell_type": "code",
   "execution_count": 15,
   "id": "15bf2ff8-90b6-4252-9420-e86f6870069d",
   "metadata": {},
   "outputs": [],
   "source": [
    "y_negative = make_labels(train_negative.sentiment, regress=True)\n",
    "y_positive = make_labels(train_positive.sentiment, regress=True)\n",
    "y_neutral = make_labels(train_neutral.sentiment, regress=True)"
   ]
  },
  {
   "cell_type": "code",
   "execution_count": 16,
   "id": "4c37c401-c7c7-4d34-8a4c-c45c70ed4187",
   "metadata": {},
   "outputs": [],
   "source": [
    "torch_negative = SentimentDataset(x_negative, y_negative)\n",
    "torch_positive = SentimentDataset(x_positive, y_positive)\n",
    "torch_neutral = SentimentDataset(x_neutral, y_neutral)"
   ]
  },
  {
   "cell_type": "code",
   "execution_count": 17,
   "id": "fc89287a-4491-4a7a-9fa9-0f7bb48188e8",
   "metadata": {},
   "outputs": [
    {
     "name": "stderr",
     "output_type": "stream",
     "text": [
      "***** Running Prediction *****\n",
      "  Num examples = 5860\n",
      "  Batch size = 32\n",
      "***** Running Prediction *****\n",
      "  Num examples = 6193\n",
      "  Batch size = 32\n",
      "***** Running Prediction *****\n",
      "  Num examples = 6696\n",
      "  Batch size = 32\n"
     ]
    }
   ],
   "source": [
    "preds_negative = trainer.predict(torch_negative)\n",
    "preds_positive = trainer.predict(torch_positive)\n",
    "preds_neutral = trainer.predict(torch_neutral)"
   ]
  },
  {
   "cell_type": "code",
   "execution_count": 18,
   "id": "45dc67f1-1bec-4bd2-aa87-c8abd83e69d3",
   "metadata": {},
   "outputs": [
    {
     "data": {
      "image/png": "[encoded data removed]",
      "text/plain": [
       "<Figure size 1440x720 with 1 Axes>"
      ]
     },
     "metadata": {
      "needs_background": "light"
     },
     "output_type": "display_data"
    }
   ],
   "source": [
    "plt.figure(figsize=(20, 10))\n",
    "plt.hist([preds_negative.predictions.flatten(), preds_positive.predictions.flatten(), preds_neutral.predictions.flatten()], bins = np.arange(-.2, 1.2, 0.02),label=[\"Negative\", \"Positive\", \"Neutral\"], stacked=True)\n",
    "plt.legend(loc=\"upper left\")\n",
    "plt.show()"
   ]
  },
  {
   "cell_type": "markdown",
   "id": "e7462f93-9658-4315-922e-c3b2c173c388",
   "metadata": {},
   "source": [
    "We can observe that the regression worked well, however some are still classified as to the opposite sentiment."
   ]
  },
  {
   "cell_type": "markdown",
   "id": "c67b717c-b29b-468e-a463-aedb11246f9b",
   "metadata": {},
   "source": [
    "### Let's compute the bounds to classify the data using the regression result"
   ]
  },
  {
   "cell_type": "markdown",
   "id": "50e4f398-637f-4a6d-beb8-dd1ce7cd2d74",
   "metadata": {},
   "source": [
    "Here we are looking for the best higher and lower bounds that maximize the train accuracy"
   ]
  },
  {
   "cell_type": "code",
   "execution_count": 19,
   "id": "2942c5de-330c-4bf5-b46e-9f6fce6de9df",
   "metadata": {},
   "outputs": [],
   "source": [
    "def compute_predicted_labels(predictions, lower=.25, higher=.75):\n",
    "    predicted_labels = [0 if prediction < lower else 2 if prediction > higher else 1 for prediction in predictions]\n",
    "    return predicted_labels"
   ]
  },
  {
   "cell_type": "code",
   "execution_count": 20,
   "id": "fb01765b-e08e-4643-be37-dff55c3fcb38",
   "metadata": {},
   "outputs": [],
   "source": [
    "def compute_best_lower_bound(predictions, highest = .75):\n",
    "    accs = []\n",
    "    bounds = []\n",
    "    for i in np.arange(0, .66, 0.01):\n",
    "        accs.append(metric.compute(predictions=compute_predicted_labels(predictions.predictions, i, highest), references=compute_predicted_labels(predictions.label_ids))[\"accuracy\"])\n",
    "        bounds.append(i)\n",
    "    print(f\"Max = {bounds[np.argmax(accs)]}\")\n",
    "\n",
    "    plt.plot(bounds, accs)\n",
    "    return bounds[np.argmax(accs)]"
   ]
  },
  {
   "cell_type": "code",
   "execution_count": 21,
   "id": "b3342786-6446-4be1-a4c1-065436bcf960",
   "metadata": {},
   "outputs": [],
   "source": [
    "def compute_best_higher_bound(predictions, lowest= .25):\n",
    "    accs = []\n",
    "    bounds = []\n",
    "    for i in np.arange(.4, 1, 0.01):\n",
    "        accs.append(metric.compute(predictions=compute_predicted_labels(predictions.predictions, lowest, i), references=compute_predicted_labels(predictions.label_ids))[\"accuracy\"])\n",
    "        bounds.append(i)\n",
    "\n",
    "    print(f\"Max = {bounds[np.argmax(accs)]}\")\n",
    "    plt.plot(bounds, accs)\n",
    "    return bounds[np.argmax(accs)]"
   ]
  },
  {
   "cell_type": "code",
   "execution_count": 22,
   "id": "7e7f0b3b-dcfe-4a2b-8c20-71f58b2d1fa9",
   "metadata": {},
   "outputs": [
    {
     "name": "stdout",
     "output_type": "stream",
     "text": [
      "Max = 0.8100000000000004\n"
     ]
    },
    {
     "data": {
      "image/png": "[encoded data removed]",
      "text/plain": [
       "<Figure size 432x288 with 1 Axes>"
      ]
     },
     "metadata": {
      "needs_background": "light"
     },
     "output_type": "display_data"
    }
   ],
   "source": [
    "higher = compute_best_higher_bound(train_predictions)"
   ]
  },
  {
   "cell_type": "code",
   "execution_count": 23,
   "id": "f98f3544-8d2a-460c-ad81-0f9ad8bdb4be",
   "metadata": {},
   "outputs": [
    {
     "name": "stdout",
     "output_type": "stream",
     "text": [
      "Max = 0.34\n"
     ]
    },
    {
     "data": {
      "image/png": "[encoded data removed]",
      "text/plain": [
       "<Figure size 432x288 with 1 Axes>"
      ]
     },
     "metadata": {
      "needs_background": "light"
     },
     "output_type": "display_data"
    }
   ],
   "source": [
    "lower = compute_best_lower_bound(train_predictions)"
   ]
  },
  {
   "cell_type": "code",
   "execution_count": 24,
   "id": "f66f964b-2b63-4add-8f45-dd33d56528b2",
   "metadata": {},
   "outputs": [
    {
     "name": "stderr",
     "output_type": "stream",
     "text": [
      "***** Running Prediction *****\n",
      "  Num examples = 6250\n",
      "  Batch size = 32\n"
     ]
    }
   ],
   "source": [
    "val_predictions = trainer.predict(val_dataset_torch)"
   ]
  },
  {
   "cell_type": "markdown",
   "id": "a740c3c3-7ef9-4277-9169-0319134d716d",
   "metadata": {},
   "source": [
    "### Results"
   ]
  },
  {
   "cell_type": "code",
   "execution_count": 25,
   "id": "037a16ec-6b92-44f2-a970-aa709b98b81f",
   "metadata": {},
   "outputs": [],
   "source": [
    "predicted_labels_adjusted = compute_predicted_labels(val_predictions.predictions, lower, higher)"
   ]
  },
  {
   "cell_type": "code",
   "execution_count": 26,
   "id": "a2745417-7e4d-4829-9258-1f05e2d1f7ff",
   "metadata": {},
   "outputs": [
    {
     "data": {
      "text/plain": [
       "{'accuracy': 0.84624}"
      ]
     },
     "execution_count": 26,
     "metadata": {},
     "output_type": "execute_result"
    }
   ],
   "source": [
    "metric.compute(predictions=predicted_labels_adjusted, references=compute_predicted_labels(val_predictions.label_ids))"
   ]
  },
  {
   "cell_type": "code",
   "execution_count": 27,
   "id": "6b8dd122-708c-4c28-b277-3d263dd8f26f",
   "metadata": {},
   "outputs": [],
   "source": [
    "from sklearn.metrics import confusion_matrix, ConfusionMatrixDisplay"
   ]
  },
  {
   "cell_type": "code",
   "execution_count": 28,
   "id": "f1d4bfa8-a88f-4bf4-bf0a-c931a3af80f1",
   "metadata": {},
   "outputs": [],
   "source": [
    "predicted_labels = compute_predicted_labels(val_predictions.label_ids)"
   ]
  },
  {
   "cell_type": "code",
   "execution_count": 29,
   "id": "09fa391b-a70f-4c88-9cad-195ada3e4b4f",
   "metadata": {},
   "outputs": [
    {
     "data": {
      "text/plain": [
       "<sklearn.metrics._plot.confusion_matrix.ConfusionMatrixDisplay at 0x2442326bb20>"
      ]
     },
     "execution_count": 29,
     "metadata": {},
     "output_type": "execute_result"
    },
    {
     "data": {
      "image/png": "[encoded data removed]",
      "text/plain": [
       "<Figure size 432x288 with 2 Axes>"
      ]
     },
     "metadata": {
      "needs_background": "light"
     },
     "output_type": "display_data"
    }
   ],
   "source": [
    "conf_matrix = confusion_matrix(predicted_labels, predicted_labels_adjusted)\n",
    "disp = ConfusionMatrixDisplay(confusion_matrix=conf_matrix, display_labels = [\"negative\", \"neutral\", \"positive\"],)\n",
    "disp.plot( cmap=\"cividis\")"
   ]
  },
  {
   "cell_type": "code",
   "execution_count": 30,
   "id": "325f6c2b-bdfa-4618-902e-08cc88bc4e6c",
   "metadata": {},
   "outputs": [],
   "source": [
    "data_val = data_val.assign(predictions=pd.Series(predicted_labels_adjusted).values)"
   ]
  },
  {
   "cell_type": "code",
   "execution_count": 31,
   "id": "4daf14e0-3d68-4e45-91d9-1514bf9b8dc0",
   "metadata": {},
   "outputs": [],
   "source": [
    "data_val = data_val.assign(label=pd.Series(compute_predicted_labels(val_predictions.label_ids)).values)"
   ]
  },
  {
   "cell_type": "code",
   "execution_count": 32,
   "id": "e90f87d7-2fd4-4b5f-939d-8b25a8907e59",
   "metadata": {},
   "outputs": [
    {
     "data": {
      "text/html": [
       "<div>\n",
       "<style scoped>\n",
       "    .dataframe tbody tr th:only-of-type {\n",
       "        vertical-align: middle;\n",
       "    }\n",
       "\n",
       "    .dataframe tbody tr th {\n",
       "        vertical-align: top;\n",
       "    }\n",
       "\n",
       "    .dataframe thead th {\n",
       "        text-align: right;\n",
       "    }\n",
       "</style>\n",
       "<table border=\"1\" class=\"dataframe\">\n",
       "  <thead>\n",
       "    <tr style=\"text-align: right;\">\n",
       "      <th></th>\n",
       "      <th>Unnamed: 0</th>\n",
       "      <th>content</th>\n",
       "      <th>sentiment</th>\n",
       "      <th>language</th>\n",
       "      <th>predictions</th>\n",
       "      <th>label</th>\n",
       "    </tr>\n",
       "  </thead>\n",
       "  <tbody>\n",
       "    <tr>\n",
       "      <th>0</th>\n",
       "      <td>19828</td>\n",
       "      <td>Marcelo Rebelo de Sousa e João Lourenço reunid...</td>\n",
       "      <td>neutral</td>\n",
       "      <td>pt</td>\n",
       "      <td>1</td>\n",
       "      <td>1</td>\n",
       "    </tr>\n",
       "    <tr>\n",
       "      <th>1</th>\n",
       "      <td>13131</td>\n",
       "      <td>Did you notice that zero has a karambit knife ...</td>\n",
       "      <td>positive</td>\n",
       "      <td>en</td>\n",
       "      <td>1</td>\n",
       "      <td>2</td>\n",
       "    </tr>\n",
       "    <tr>\n",
       "      <th>2</th>\n",
       "      <td>17486</td>\n",
       "      <td>Page invita a Iceta a defenderle \"ante tanto i...</td>\n",
       "      <td>neutral</td>\n",
       "      <td>es</td>\n",
       "      <td>1</td>\n",
       "      <td>1</td>\n",
       "    </tr>\n",
       "    <tr>\n",
       "      <th>3</th>\n",
       "      <td>5955</td>\n",
       "      <td>Movimento de Mulheres cria aplicação para tele...</td>\n",
       "      <td>neutral</td>\n",
       "      <td>pt</td>\n",
       "      <td>1</td>\n",
       "      <td>1</td>\n",
       "    </tr>\n",
       "    <tr>\n",
       "      <th>4</th>\n",
       "      <td>8126</td>\n",
       "      <td>GLOBAL MARKETS-US stocks rise, push Dow to rec...</td>\n",
       "      <td>neutral</td>\n",
       "      <td>en</td>\n",
       "      <td>1</td>\n",
       "      <td>1</td>\n",
       "    </tr>\n",
       "    <tr>\n",
       "      <th>...</th>\n",
       "      <td>...</td>\n",
       "      <td>...</td>\n",
       "      <td>...</td>\n",
       "      <td>...</td>\n",
       "      <td>...</td>\n",
       "      <td>...</td>\n",
       "    </tr>\n",
       "    <tr>\n",
       "      <th>6245</th>\n",
       "      <td>21682</td>\n",
       "      <td>@ 7anno他是我朋友之一的儿子</td>\n",
       "      <td>positive</td>\n",
       "      <td>zh-cn</td>\n",
       "      <td>2</td>\n",
       "      <td>2</td>\n",
       "    </tr>\n",
       "    <tr>\n",
       "      <th>6246</th>\n",
       "      <td>12555</td>\n",
       "      <td>Kohleausstieg lässt Hausmüllentsorgung möglich...</td>\n",
       "      <td>neutral</td>\n",
       "      <td>de</td>\n",
       "      <td>1</td>\n",
       "      <td>1</td>\n",
       "    </tr>\n",
       "    <tr>\n",
       "      <th>6247</th>\n",
       "      <td>16937</td>\n",
       "      <td>Y’a pas de confort.</td>\n",
       "      <td>negative</td>\n",
       "      <td>es</td>\n",
       "      <td>0</td>\n",
       "      <td>0</td>\n",
       "    </tr>\n",
       "    <tr>\n",
       "      <th>6248</th>\n",
       "      <td>6833</td>\n",
       "      <td>küsülülüyə əvvəlində biz zahirən bağlı obrazl...</td>\n",
       "      <td>negative</td>\n",
       "      <td>tr</td>\n",
       "      <td>2</td>\n",
       "      <td>0</td>\n",
       "    </tr>\n",
       "    <tr>\n",
       "      <th>6249</th>\n",
       "      <td>18693</td>\n",
       "      <td>HP Samsung A9 Pro Bekas Android Ram 6GB Murah ...</td>\n",
       "      <td>neutral</td>\n",
       "      <td>id</td>\n",
       "      <td>1</td>\n",
       "      <td>1</td>\n",
       "    </tr>\n",
       "  </tbody>\n",
       "</table>\n",
       "<p>6250 rows × 6 columns</p>\n",
       "</div>"
      ],
      "text/plain": [
       "      Unnamed: 0                                            content sentiment  \\\n",
       "0          19828  Marcelo Rebelo de Sousa e João Lourenço reunid...   neutral   \n",
       "1          13131  Did you notice that zero has a karambit knife ...  positive   \n",
       "2          17486  Page invita a Iceta a defenderle \"ante tanto i...   neutral   \n",
       "3           5955  Movimento de Mulheres cria aplicação para tele...   neutral   \n",
       "4           8126  GLOBAL MARKETS-US stocks rise, push Dow to rec...   neutral   \n",
       "...          ...                                                ...       ...   \n",
       "6245       21682                                  @ 7anno他是我朋友之一的儿子  positive   \n",
       "6246       12555  Kohleausstieg lässt Hausmüllentsorgung möglich...   neutral   \n",
       "6247       16937                                Y’a pas de confort.  negative   \n",
       "6248        6833   küsülülüyə əvvəlində biz zahirən bağlı obrazl...  negative   \n",
       "6249       18693  HP Samsung A9 Pro Bekas Android Ram 6GB Murah ...   neutral   \n",
       "\n",
       "     language  predictions  label  \n",
       "0          pt            1      1  \n",
       "1          en            1      2  \n",
       "2          es            1      1  \n",
       "3          pt            1      1  \n",
       "4          en            1      1  \n",
       "...       ...          ...    ...  \n",
       "6245    zh-cn            2      2  \n",
       "6246       de            1      1  \n",
       "6247       es            0      0  \n",
       "6248       tr            2      0  \n",
       "6249       id            1      1  \n",
       "\n",
       "[6250 rows x 6 columns]"
      ]
     },
     "execution_count": 32,
     "metadata": {},
     "output_type": "execute_result"
    }
   ],
   "source": [
    "data_val"
   ]
  },
  {
   "cell_type": "code",
   "execution_count": 33,
   "id": "cee42f58-3a80-4f29-9132-84a91cbb042d",
   "metadata": {},
   "outputs": [],
   "source": [
    "results_by_language = []\n",
    "for language in set(data_val.language):\n",
    "    data = data_val[data_val.language == language]\n",
    "    results_by_language.append((language,  metric.compute(predictions=data.predictions, references=data.label)[\"accuracy\"], len(data)))\n",
    "results_by_language = pd.DataFrame(results_by_language, columns=[\"language\", \"accuracy\", \"size\"]).sort_values(\"size\")[::-1]"
   ]
  },
  {
   "cell_type": "code",
   "execution_count": 34,
   "id": "8ddeac1c-ba07-423b-98c8-fb7042870134",
   "metadata": {},
   "outputs": [
    {
     "data": {
      "text/html": [
       "<div>\n",
       "<style scoped>\n",
       "    .dataframe tbody tr th:only-of-type {\n",
       "        vertical-align: middle;\n",
       "    }\n",
       "\n",
       "    .dataframe tbody tr th {\n",
       "        vertical-align: top;\n",
       "    }\n",
       "\n",
       "    .dataframe thead th {\n",
       "        text-align: right;\n",
       "    }\n",
       "</style>\n",
       "<table border=\"1\" class=\"dataframe\">\n",
       "  <thead>\n",
       "    <tr style=\"text-align: right;\">\n",
       "      <th></th>\n",
       "      <th>language</th>\n",
       "      <th>accuracy</th>\n",
       "      <th>size</th>\n",
       "    </tr>\n",
       "  </thead>\n",
       "  <tbody>\n",
       "    <tr>\n",
       "      <th>4</th>\n",
       "      <td>en</td>\n",
       "      <td>0.813627</td>\n",
       "      <td>998</td>\n",
       "    </tr>\n",
       "    <tr>\n",
       "      <th>32</th>\n",
       "      <td>id</td>\n",
       "      <td>0.880000</td>\n",
       "      <td>800</td>\n",
       "    </tr>\n",
       "    <tr>\n",
       "      <th>42</th>\n",
       "      <td>ru</td>\n",
       "      <td>0.930643</td>\n",
       "      <td>793</td>\n",
       "    </tr>\n",
       "    <tr>\n",
       "      <th>25</th>\n",
       "      <td>ar</td>\n",
       "      <td>0.857143</td>\n",
       "      <td>462</td>\n",
       "    </tr>\n",
       "    <tr>\n",
       "      <th>13</th>\n",
       "      <td>fr</td>\n",
       "      <td>0.863747</td>\n",
       "      <td>411</td>\n",
       "    </tr>\n",
       "    <tr>\n",
       "      <th>43</th>\n",
       "      <td>es</td>\n",
       "      <td>0.882540</td>\n",
       "      <td>315</td>\n",
       "    </tr>\n",
       "    <tr>\n",
       "      <th>44</th>\n",
       "      <td>pt</td>\n",
       "      <td>0.909396</td>\n",
       "      <td>298</td>\n",
       "    </tr>\n",
       "    <tr>\n",
       "      <th>11</th>\n",
       "      <td>ko</td>\n",
       "      <td>0.814545</td>\n",
       "      <td>275</td>\n",
       "    </tr>\n",
       "    <tr>\n",
       "      <th>15</th>\n",
       "      <td>zh-cn</td>\n",
       "      <td>0.754545</td>\n",
       "      <td>220</td>\n",
       "    </tr>\n",
       "    <tr>\n",
       "      <th>49</th>\n",
       "      <td>ja</td>\n",
       "      <td>0.861878</td>\n",
       "      <td>181</td>\n",
       "    </tr>\n",
       "    <tr>\n",
       "      <th>34</th>\n",
       "      <td>de</td>\n",
       "      <td>0.818792</td>\n",
       "      <td>149</td>\n",
       "    </tr>\n",
       "    <tr>\n",
       "      <th>41</th>\n",
       "      <td>it</td>\n",
       "      <td>0.842857</td>\n",
       "      <td>140</td>\n",
       "    </tr>\n",
       "    <tr>\n",
       "      <th>23</th>\n",
       "      <td>th</td>\n",
       "      <td>0.891892</td>\n",
       "      <td>111</td>\n",
       "    </tr>\n",
       "    <tr>\n",
       "      <th>28</th>\n",
       "      <td>tr</td>\n",
       "      <td>0.733333</td>\n",
       "      <td>75</td>\n",
       "    </tr>\n",
       "    <tr>\n",
       "      <th>40</th>\n",
       "      <td>so</td>\n",
       "      <td>0.662162</td>\n",
       "      <td>74</td>\n",
       "    </tr>\n",
       "    <tr>\n",
       "      <th>0</th>\n",
       "      <td>tl</td>\n",
       "      <td>0.707692</td>\n",
       "      <td>65</td>\n",
       "    </tr>\n",
       "    <tr>\n",
       "      <th>2</th>\n",
       "      <td>vi</td>\n",
       "      <td>0.827586</td>\n",
       "      <td>58</td>\n",
       "    </tr>\n",
       "    <tr>\n",
       "      <th>3</th>\n",
       "      <td>pl</td>\n",
       "      <td>0.869565</td>\n",
       "      <td>46</td>\n",
       "    </tr>\n",
       "    <tr>\n",
       "      <th>10</th>\n",
       "      <td>et</td>\n",
       "      <td>0.772727</td>\n",
       "      <td>44</td>\n",
       "    </tr>\n",
       "    <tr>\n",
       "      <th>30</th>\n",
       "      <td>nl</td>\n",
       "      <td>0.909091</td>\n",
       "      <td>44</td>\n",
       "    </tr>\n",
       "    <tr>\n",
       "      <th>17</th>\n",
       "      <td>uk</td>\n",
       "      <td>0.925000</td>\n",
       "      <td>40</td>\n",
       "    </tr>\n",
       "    <tr>\n",
       "      <th>37</th>\n",
       "      <td>ro</td>\n",
       "      <td>0.950000</td>\n",
       "      <td>40</td>\n",
       "    </tr>\n",
       "    <tr>\n",
       "      <th>36</th>\n",
       "      <td>bn</td>\n",
       "      <td>0.657895</td>\n",
       "      <td>38</td>\n",
       "    </tr>\n",
       "    <tr>\n",
       "      <th>24</th>\n",
       "      <td>bg</td>\n",
       "      <td>0.837838</td>\n",
       "      <td>37</td>\n",
       "    </tr>\n",
       "    <tr>\n",
       "      <th>26</th>\n",
       "      <td>hi</td>\n",
       "      <td>0.794118</td>\n",
       "      <td>34</td>\n",
       "    </tr>\n",
       "    <tr>\n",
       "      <th>7</th>\n",
       "      <td>fa</td>\n",
       "      <td>0.606061</td>\n",
       "      <td>33</td>\n",
       "    </tr>\n",
       "    <tr>\n",
       "      <th>22</th>\n",
       "      <td>ca</td>\n",
       "      <td>0.843750</td>\n",
       "      <td>32</td>\n",
       "    </tr>\n",
       "    <tr>\n",
       "      <th>12</th>\n",
       "      <td>cs</td>\n",
       "      <td>1.000000</td>\n",
       "      <td>31</td>\n",
       "    </tr>\n",
       "    <tr>\n",
       "      <th>16</th>\n",
       "      <td>gu</td>\n",
       "      <td>0.741935</td>\n",
       "      <td>31</td>\n",
       "    </tr>\n",
       "    <tr>\n",
       "      <th>39</th>\n",
       "      <td>zh-tw</td>\n",
       "      <td>0.666667</td>\n",
       "      <td>30</td>\n",
       "    </tr>\n",
       "    <tr>\n",
       "      <th>45</th>\n",
       "      <td>sv</td>\n",
       "      <td>0.866667</td>\n",
       "      <td>30</td>\n",
       "    </tr>\n",
       "    <tr>\n",
       "      <th>31</th>\n",
       "      <td>fi</td>\n",
       "      <td>0.703704</td>\n",
       "      <td>27</td>\n",
       "    </tr>\n",
       "    <tr>\n",
       "      <th>9</th>\n",
       "      <td>sk</td>\n",
       "      <td>0.956522</td>\n",
       "      <td>23</td>\n",
       "    </tr>\n",
       "    <tr>\n",
       "      <th>20</th>\n",
       "      <td>ml</td>\n",
       "      <td>0.565217</td>\n",
       "      <td>23</td>\n",
       "    </tr>\n",
       "    <tr>\n",
       "      <th>46</th>\n",
       "      <td>mk</td>\n",
       "      <td>0.904762</td>\n",
       "      <td>21</td>\n",
       "    </tr>\n",
       "    <tr>\n",
       "      <th>21</th>\n",
       "      <td>da</td>\n",
       "      <td>0.736842</td>\n",
       "      <td>19</td>\n",
       "    </tr>\n",
       "    <tr>\n",
       "      <th>14</th>\n",
       "      <td>he</td>\n",
       "      <td>0.789474</td>\n",
       "      <td>19</td>\n",
       "    </tr>\n",
       "    <tr>\n",
       "      <th>33</th>\n",
       "      <td>lt</td>\n",
       "      <td>1.000000</td>\n",
       "      <td>18</td>\n",
       "    </tr>\n",
       "    <tr>\n",
       "      <th>35</th>\n",
       "      <td>undetected</td>\n",
       "      <td>0.470588</td>\n",
       "      <td>17</td>\n",
       "    </tr>\n",
       "    <tr>\n",
       "      <th>38</th>\n",
       "      <td>no</td>\n",
       "      <td>0.705882</td>\n",
       "      <td>17</td>\n",
       "    </tr>\n",
       "    <tr>\n",
       "      <th>27</th>\n",
       "      <td>ta</td>\n",
       "      <td>0.750000</td>\n",
       "      <td>16</td>\n",
       "    </tr>\n",
       "    <tr>\n",
       "      <th>50</th>\n",
       "      <td>hu</td>\n",
       "      <td>0.933333</td>\n",
       "      <td>15</td>\n",
       "    </tr>\n",
       "    <tr>\n",
       "      <th>5</th>\n",
       "      <td>el</td>\n",
       "      <td>0.866667</td>\n",
       "      <td>15</td>\n",
       "    </tr>\n",
       "    <tr>\n",
       "      <th>6</th>\n",
       "      <td>sw</td>\n",
       "      <td>0.500000</td>\n",
       "      <td>14</td>\n",
       "    </tr>\n",
       "    <tr>\n",
       "      <th>47</th>\n",
       "      <td>ur</td>\n",
       "      <td>0.692308</td>\n",
       "      <td>13</td>\n",
       "    </tr>\n",
       "    <tr>\n",
       "      <th>51</th>\n",
       "      <td>af</td>\n",
       "      <td>0.615385</td>\n",
       "      <td>13</td>\n",
       "    </tr>\n",
       "    <tr>\n",
       "      <th>48</th>\n",
       "      <td>cy</td>\n",
       "      <td>0.666667</td>\n",
       "      <td>12</td>\n",
       "    </tr>\n",
       "    <tr>\n",
       "      <th>1</th>\n",
       "      <td>hr</td>\n",
       "      <td>0.583333</td>\n",
       "      <td>12</td>\n",
       "    </tr>\n",
       "    <tr>\n",
       "      <th>19</th>\n",
       "      <td>sl</td>\n",
       "      <td>0.600000</td>\n",
       "      <td>10</td>\n",
       "    </tr>\n",
       "    <tr>\n",
       "      <th>18</th>\n",
       "      <td>sq</td>\n",
       "      <td>0.800000</td>\n",
       "      <td>5</td>\n",
       "    </tr>\n",
       "    <tr>\n",
       "      <th>8</th>\n",
       "      <td>lv</td>\n",
       "      <td>0.800000</td>\n",
       "      <td>5</td>\n",
       "    </tr>\n",
       "    <tr>\n",
       "      <th>29</th>\n",
       "      <td>mr</td>\n",
       "      <td>1.000000</td>\n",
       "      <td>1</td>\n",
       "    </tr>\n",
       "  </tbody>\n",
       "</table>\n",
       "</div>"
      ],
      "text/plain": [
       "      language  accuracy  size\n",
       "4           en  0.813627   998\n",
       "32          id  0.880000   800\n",
       "42          ru  0.930643   793\n",
       "25          ar  0.857143   462\n",
       "13          fr  0.863747   411\n",
       "43          es  0.882540   315\n",
       "44          pt  0.909396   298\n",
       "11          ko  0.814545   275\n",
       "15       zh-cn  0.754545   220\n",
       "49          ja  0.861878   181\n",
       "34          de  0.818792   149\n",
       "41          it  0.842857   140\n",
       "23          th  0.891892   111\n",
       "28          tr  0.733333    75\n",
       "40          so  0.662162    74\n",
       "0           tl  0.707692    65\n",
       "2           vi  0.827586    58\n",
       "3           pl  0.869565    46\n",
       "10          et  0.772727    44\n",
       "30          nl  0.909091    44\n",
       "17          uk  0.925000    40\n",
       "37          ro  0.950000    40\n",
       "36          bn  0.657895    38\n",
       "24          bg  0.837838    37\n",
       "26          hi  0.794118    34\n",
       "7           fa  0.606061    33\n",
       "22          ca  0.843750    32\n",
       "12          cs  1.000000    31\n",
       "16          gu  0.741935    31\n",
       "39       zh-tw  0.666667    30\n",
       "45          sv  0.866667    30\n",
       "31          fi  0.703704    27\n",
       "9           sk  0.956522    23\n",
       "20          ml  0.565217    23\n",
       "46          mk  0.904762    21\n",
       "21          da  0.736842    19\n",
       "14          he  0.789474    19\n",
       "33          lt  1.000000    18\n",
       "35  undetected  0.470588    17\n",
       "38          no  0.705882    17\n",
       "27          ta  0.750000    16\n",
       "50          hu  0.933333    15\n",
       "5           el  0.866667    15\n",
       "6           sw  0.500000    14\n",
       "47          ur  0.692308    13\n",
       "51          af  0.615385    13\n",
       "48          cy  0.666667    12\n",
       "1           hr  0.583333    12\n",
       "19          sl  0.600000    10\n",
       "18          sq  0.800000     5\n",
       "8           lv  0.800000     5\n",
       "29          mr  1.000000     1"
      ]
     },
     "execution_count": 34,
     "metadata": {},
     "output_type": "execute_result"
    }
   ],
   "source": [
    "results_by_language"
   ]
  },
  {
   "cell_type": "markdown",
   "id": "5f6316bf-baa4-4917-9abd-76ab341a530c",
   "metadata": {},
   "source": [
    "## Results on the main languages"
   ]
  },
  {
   "cell_type": "code",
   "execution_count": 35,
   "id": "bc421b02-c8ea-4c56-af74-87b6338aa16c",
   "metadata": {},
   "outputs": [],
   "source": [
    "main_languages = [\"en\", \"id\", \"ru\", \"ar\", \"fr\", \"es\", \"pt\", \"ko\", \"zh-cn\", \"ja\", \"de\", \"it\", \"th\", \"tr\"]"
   ]
  },
  {
   "cell_type": "code",
   "execution_count": 36,
   "id": "d6d3b34b-2797-4440-b2a0-9a7dacad20f5",
   "metadata": {},
   "outputs": [
    {
     "data": {
      "text/plain": [
       "{'accuracy': 0.859602142310635}"
      ]
     },
     "execution_count": 36,
     "metadata": {},
     "output_type": "execute_result"
    }
   ],
   "source": [
    " metric.compute(predictions=data_val[data_val.language.isin(main_languages)].predictions, references=data_val[data_val.language.isin(main_languages)].label)"
   ]
  },
  {
   "cell_type": "code",
   "execution_count": 37,
   "id": "c31befd4-1095-4d63-ae54-05945a9f80be",
   "metadata": {},
   "outputs": [
    {
     "data": {
      "text/plain": [
       "<sklearn.metrics._plot.confusion_matrix.ConfusionMatrixDisplay at 0x2433d1f8250>"
      ]
     },
     "execution_count": 37,
     "metadata": {},
     "output_type": "execute_result"
    },
    {
     "data": {
      "image/png": "[encoded data removed]",
      "text/plain": [
       "<Figure size 432x288 with 2 Axes>"
      ]
     },
     "metadata": {
      "needs_background": "light"
     },
     "output_type": "display_data"
    }
   ],
   "source": [
    "conf_matrix = confusion_matrix(data_val[data_val.language.isin(main_languages)].label, data_val[data_val.language.isin(main_languages)].predictions)\n",
    "disp = ConfusionMatrixDisplay(confusion_matrix=conf_matrix, display_labels = [\"negative\", \"neutral\", \"positive\"],)\n",
    "disp.plot( cmap=\"cividis\")"
   ]
  },
  {
   "cell_type": "markdown",
   "id": "60247add-6e52-4379-8c02-5759525d9358",
   "metadata": {},
   "source": [
    "### Positive classified as negative"
   ]
  },
  {
   "cell_type": "code",
   "execution_count": 38,
   "id": "89667d58-0937-4730-b96c-65feb4e0953a",
   "metadata": {},
   "outputs": [
    {
     "name": "stdout",
     "output_type": "stream",
     "text": [
      "Anime Saturday about to start. New episode of bleach.  Yea \n",
      "So tired. Finally getting some sleep. Nighty \n",
      "If it was up to me I would give more berry's it is tottly not cool having to buy your eggs with berries I mean for real not cool update it a lift will you.\n",
      "핸드폰 전체 세팅에서 말고 앱 내에서 개인이나 단톡방 알림끄기하면 소리는 안나는데 배너는 계속떠요. 아예 메세지가 안온거처럼 안뜨고 들어갈경우에만 받은 메세지가 보였으면 좋겠네요 Once i turn off the notification of a person/ group, as long as I don't check messages, i wish i do not see any notification(banner) and also number of accumulated messages on the list.\n",
      "8 cm dilated and her water just broke. Getting closer \n",
      "going to rehearsals! \n",
      "tɦɨs aքք ɨs ʋɛʀʏ ɢօօɖ tօ ʊsɛ\n",
      "Tomorrow Demi in Madrid  I didn't win the concert to meet her LOL!\n",
      " typical metro, can't even get that right. \n",
      "chrome falling off or missing on a steel stand and poor stainless steel quality made utensils , returned for refund\n",
      " I am in bed.  \n",
      "For No Reason Pou Can Die.\n",
      "Addictingd\n",
      "I love Birkenstock Arizona sandals and have been wearing them for nearly 20 years. I recently bought a pair of them in HABANA LEATHER and the sandals delivered do not match the color of the picture. The shade of brown is quite different.\n",
      " Yes very kind of him to do that for such a pain in the arse like me! \n",
      " No. Wally-World is the root of all evil. Costco is not to be feared. \n",
      " lol i cant w8 till yoiur film out on friday  is it any good?\n",
      " It is from &quot;One&quot;. Its my fav line from my fav song from my fav album from my fav band \n",
      " oh what happened?? \n",
      " aww dont make me blush!\n",
      "Ahhhhh.... Back to work.     *BreBre.net*\n",
      " No invit'. You have to follow the smell of hickory and pork fat on hot coals.  Next time maybe?\n",
      "eeeee my first follower  can't concentrate on the essay.\n",
      "going to the worlds most southernistttt townn to visit my grandparents todayyy! \n",
      " Try to sport once and awhile instead of sitting behind your computer \n",
      "the games are just like the casino but reaction is somewhat slow even with 4g and wifi. run out of money too fast since payouts are smaller than bets - just like the casino!\n",
      " IMO trad segmenting in communities is not very useful \n",
      " stupid phone! It's about zune covers and designs  New ones are out for spring \n",
      " hahas sucks to be you \n",
      " must have been one heck of a cloud because it's falling here \n"
     ]
    },
    {
     "name": "stderr",
     "output_type": "stream",
     "text": [
      "C:\\Users\\Louis\\AppData\\Local\\Temp/ipykernel_25588/4078927634.py:1: UserWarning: Boolean Series key will be reindexed to match DataFrame index.\n",
      "  for sentence in data_val[data_val.language==\"en\"][data_val.label==2][data_val.predictions==0].content:\n"
     ]
    }
   ],
   "source": [
    "for sentence in data_val[data_val.language==\"en\"][data_val.label==2][data_val.predictions==0].content:\n",
    "    print(sentence)"
   ]
  },
  {
   "cell_type": "code",
   "execution_count": null,
   "id": "412f6aee-c7ae-477c-a303-99cbbe4a164b",
   "metadata": {},
   "outputs": [],
   "source": []
  }
 ],
 "metadata": {
  "kernelspec": {
   "display_name": "Python 3 (ipykernel)",
   "language": "python",
   "name": "python3"
  },
  "language_info": {
   "codemirror_mode": {
    "name": "ipython",
    "version": 3
   },
   "file_extension": ".py",
   "mimetype": "text/x-python",
   "name": "python",
   "nbconvert_exporter": "python",
   "pygments_lexer": "ipython3",
   "version": "3.9.7"
  }
 },
 "nbformat": 4,
 "nbformat_minor": 5
}
