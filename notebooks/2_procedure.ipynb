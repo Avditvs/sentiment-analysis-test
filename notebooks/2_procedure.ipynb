{
 "cells": [
  {
   "cell_type": "markdown",
   "id": "25f1196b-2d36-46e9-9987-188e89d9676a",
   "metadata": {},
   "source": [
    "# Procedure"
   ]
  },
  {
   "cell_type": "markdown",
   "id": "c7a99fe5-7d4a-4f82-8cd0-6cad1fe289b4",
   "metadata": {},
   "source": [
    "There are many approaches to apply a sentiment analysis on text. Some are more common like for example dictionnary approaches (dict containing + and - words), \n",
    "or more recent and state of the art techniques like deeplearning methods."
   ]
  },
  {
   "cell_type": "markdown",
   "id": "629999e9-ff19-4914-afc7-8a4270cadfa0",
   "metadata": {},
   "source": [
    "In the next session I will describe some and choose 2 of them."
   ]
  },
  {
   "cell_type": "markdown",
   "id": "5f9c55ef-95e1-4412-9f70-66c0964021c8",
   "metadata": {},
   "source": [
    "One very interessing challeng is that we are dealing with multilingual data. We cannot create a model for each of the languae for many reasons:\n",
    "- Some languages lack of data for traing models\n",
    "- It will take a lot of time to create all of them\n",
    "- Too difficult to maintain"
   ]
  },
  {
   "cell_type": "markdown",
   "id": "eb30e63c-8d28-4092-9c62-de97dcce3607",
   "metadata": {},
   "source": [
    "So we have 2 solutions:\n",
    "1. Create a multilingual model that is support all the languages.\n",
    "1. Translate all non-english text to english (machine translation is something that we know how to do well) and then apply any english sentiment analysis model."
   ]
  },
  {
   "cell_type": "markdown",
   "id": "f122f989-c6d2-4ba9-ad4c-2d28b2cbcdaa",
   "metadata": {},
   "source": [
    "As I have currently non access to an API that can translate 25k+ texts in a reasonable amount of time i did not choose this option.  \n",
    "However I descibed below the procedure I would have done if I had time."
   ]
  },
  {
   "cell_type": "markdown",
   "id": "8a107836-7415-488d-a324-f09daa0452cb",
   "metadata": {},
   "source": [
    "1. Clean text\n",
    "1. Detect language\n",
    "1. Translate to english\n",
    "1. Tokenize the data (words)\n",
    "1. Remove the stop words (words that does not carry any useful information for example pronouns, ...), it allows to keep only relevent words\n",
    "1. Normalize the text (stemming/lemmatization)\n",
    "1. Vectorize data (BOW, TF-IDF)\n",
    "1. Train a machine learning model"
   ]
  },
  {
   "cell_type": "markdown",
   "id": "630c0027-c0c4-4532-92f9-66cb0d7701bd",
   "metadata": {},
   "source": [
    "I could also use a pretrained english model like bert and fine-tune it on the dataset"
   ]
  },
  {
   "cell_type": "markdown",
   "id": "ea8272a4-17eb-4d59-b222-79240637bf18",
   "metadata": {},
   "source": [
    "## Solutions I choose"
   ]
  },
  {
   "cell_type": "markdown",
   "id": "819dd9ca-4f74-4bd4-8298-002feb350314",
   "metadata": {},
   "source": [
    "The solution I whave chosen for doing my experiments is to train/fine-tune already-existing deep learning models as many of them are available online and support multilinguism for example :\n",
    "- bert-base-multilingual-cased\n",
    "- xlm-roberta-base"
   ]
  },
  {
   "cell_type": "markdown",
   "id": "1c0a1afa-95c5-4cc7-9326-e013ae2ba2f9",
   "metadata": {},
   "source": [
    "They are transformer models pretrained on a lot of languages, we'll import them and fine-tume using the Huggingface library since it is the faster and easiest way to be ready with NLP models."
   ]
  },
  {
   "cell_type": "markdown",
   "id": "5ad18919-06df-4977-9251-301ccd61e994",
   "metadata": {},
   "source": [
    "## My two approaches"
   ]
  },
  {
   "cell_type": "markdown",
   "id": "2c89e566-9f2b-47bc-a9f2-95d169b46530",
   "metadata": {},
   "source": [
    "### Classification"
   ]
  },
  {
   "cell_type": "markdown",
   "id": "52d29660-806c-4330-8193-82f13508659b",
   "metadata": {},
   "source": [
    "There are two approaches I decided to experiment to train my model. \n",
    "The first one is to treat this problem as a classification. The model will be fine tuned to predict 3 classes : \n",
    "- Neutral\n",
    "- Positive\n",
    "- Negative\n"
   ]
  },
  {
   "cell_type": "markdown",
   "id": "94979f02-14b8-467b-9507-e457986e72e5",
   "metadata": {},
   "source": [
    "### Regression"
   ]
  },
  {
   "cell_type": "markdown",
   "id": "b813ab0f-3459-4796-a0c3-9c11f8fc0f7a",
   "metadata": {},
   "source": [
    "A second approach I want to try is to do a regression prior to classify to the final labels.  \n",
    "My idea was to no consider our 3 sentiments as independant but placed on a scale between 0 and 1 where 0 is Negative, 0.5 Neutral and 1 Positive.  \n",
    "And then calculating the best lower and higher bounds for the neutral class in order to predict the 3 classes.  \n",
    "\n",
    "My hypothesis was the following\n",
    "- Allows better gradients since Positive should be further away from Negative than from Neutral\n",
    "- Will reduce the rate of complete missclassification (ie. classifying a Positive as Negative or a Negative as Positive) and classifying more as Neutral (makes more sense)\n",
    "- Maybe improve the overall results (accuracy)"
   ]
  },
  {
   "cell_type": "markdown",
   "id": "9701df77-e02b-4e2b-a977-3d6de8945fc9",
   "metadata": {},
   "source": [
    "## Training phase"
   ]
  },
  {
   "cell_type": "markdown",
   "id": "a601d8dc-fd39-4fc7-ac33-8b6eaef52bff",
   "metadata": {},
   "source": [
    "To train my models, I decided to use google colab since it provides free GPUs, it allows to train bigger models faster.  \n",
    "However, to reduce GPU memory usage, I had to set mixed presision to true hence sacrifying some performance."
   ]
  },
  {
   "cell_type": "code",
   "execution_count": null,
   "id": "06f8c065-4f52-424b-9958-ff2953162021",
   "metadata": {},
   "outputs": [],
   "source": []
  }
 ],
 "metadata": {
  "kernelspec": {
   "display_name": "Python 3 (ipykernel)",
   "language": "python",
   "name": "python3"
  },
  "language_info": {
   "codemirror_mode": {
    "name": "ipython",
    "version": 3
   },
   "file_extension": ".py",
   "mimetype": "text/x-python",
   "name": "python",
   "nbconvert_exporter": "python",
   "pygments_lexer": "ipython3",
   "version": "3.9.7"
  }
 },
 "nbformat": 4,
 "nbformat_minor": 5
}
