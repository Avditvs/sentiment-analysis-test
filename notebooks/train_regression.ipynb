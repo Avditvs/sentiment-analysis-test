{
 "cells": [
  {
   "cell_type": "code",
   "execution_count": 1,
   "id": "51b20a9f-009d-4258-be0c-fe2e977fda33",
   "metadata": {
    "id": "51b20a9f-009d-4258-be0c-fe2e977fda33"
   },
   "outputs": [],
   "source": [
    "import os\n",
    "import sys\n",
    "sys.path.append(\"../\")\n",
    "\n",
    "import torch\n",
    "import pandas as pd\n",
    "import numpy as np\n",
    "from tqdm import tqdm\n",
    "from matplotlib import pyplot as plt\n",
    "from collections import Counter\n",
    "import langdetect\n",
    "import random\n",
    "import re\n",
    "from sklearn.model_selection import train_test_split\n",
    "\n",
    "from utils.preprocessing import clean_dataset"
   ]
  },
  {
   "cell_type": "code",
   "execution_count": 2,
   "id": "0666f5cf-928a-453c-b0c0-cf18329da9b0",
   "metadata": {
    "id": "0666f5cf-928a-453c-b0c0-cf18329da9b0"
   },
   "outputs": [],
   "source": [
    "DATA_DIR = \"../data\"\n",
    "data_train = pd.read_csv(os.path.join(DATA_DIR, \"train_cleaned.csv\"), na_filter=False)\n",
    "data_val = pd.read_csv(os.path.join(DATA_DIR, \"val_cleaned.csv\"), na_filter=False)"
   ]
  },
  {
   "cell_type": "code",
   "execution_count": 3,
   "id": "FbsbHXZtRo01",
   "metadata": {
    "colab": {
     "base_uri": "https://localhost:8080/",
     "height": 35
    },
    "id": "FbsbHXZtRo01",
    "outputId": "dc481aab-5e4a-4955-fdc7-8554bcb948db"
   },
   "outputs": [
    {
     "data": {
      "text/plain": [
       "'NVIDIA GeForce RTX 2060'"
      ]
     },
     "execution_count": 3,
     "metadata": {},
     "output_type": "execute_result"
    }
   ],
   "source": [
    "torch.cuda.get_device_name(0)"
   ]
  },
  {
   "cell_type": "code",
   "execution_count": 4,
   "id": "85ea5691-d655-492c-b871-5f16cbd9473f",
   "metadata": {
    "id": "85ea5691-d655-492c-b871-5f16cbd9473f"
   },
   "outputs": [],
   "source": [
    "from transformers import AutoTokenizer, AutoModelForSequenceClassification\n",
    "from transformers import InputExample, InputFeatures\n",
    "from transformers import TrainingArguments\n",
    "from transformers import Trainer\n",
    "import torch\n",
    "from datasets import load_metric\n",
    "\n",
    "from utils.classes import SentimentDataset\n",
    "from utils.preprocessing import make_labels, tokenize"
   ]
  },
  {
   "cell_type": "code",
   "execution_count": 5,
   "id": "68cf9d50-21b9-4be4-a3a6-67c15618e261",
   "metadata": {
    "id": "68cf9d50-21b9-4be4-a3a6-67c15618e261"
   },
   "outputs": [],
   "source": [
    "MODEL = \"xlm-roberta-base\""
   ]
  },
  {
   "cell_type": "code",
   "execution_count": 6,
   "id": "6d12a306-9573-421e-ad75-751b1e331c49",
   "metadata": {
    "colab": {
     "base_uri": "https://localhost:8080/"
    },
    "id": "6d12a306-9573-421e-ad75-751b1e331c49",
    "outputId": "41499379-e056-4f0a-cbcc-802fd9d4c683"
   },
   "outputs": [
    {
     "name": "stderr",
     "output_type": "stream",
     "text": [
      "Some weights of the model checkpoint at xlm-roberta-base were not used when initializing XLMRobertaForSequenceClassification: ['roberta.pooler.dense.bias', 'roberta.pooler.dense.weight', 'lm_head.decoder.weight', 'lm_head.layer_norm.bias', 'lm_head.bias', 'lm_head.dense.bias', 'lm_head.dense.weight', 'lm_head.layer_norm.weight']\n",
      "- This IS expected if you are initializing XLMRobertaForSequenceClassification from the checkpoint of a model trained on another task or with another architecture (e.g. initializing a BertForSequenceClassification model from a BertForPreTraining model).\n",
      "- This IS NOT expected if you are initializing XLMRobertaForSequenceClassification from the checkpoint of a model that you expect to be exactly identical (initializing a BertForSequenceClassification model from a BertForSequenceClassification model).\n",
      "Some weights of XLMRobertaForSequenceClassification were not initialized from the model checkpoint at xlm-roberta-base and are newly initialized: ['classifier.dense.bias', 'classifier.out_proj.weight', 'classifier.dense.weight', 'classifier.out_proj.bias']\n",
      "You should probably TRAIN this model on a down-stream task to be able to use it for predictions and inference.\n"
     ]
    }
   ],
   "source": [
    "model = AutoModelForSequenceClassification.from_pretrained(MODEL, num_labels=1)\n",
    "tokenizer = AutoTokenizer.from_pretrained(MODEL)"
   ]
  },
  {
   "cell_type": "code",
   "execution_count": 7,
   "id": "kLwjqXE2ZSnL",
   "metadata": {
    "colab": {
     "base_uri": "https://localhost:8080/",
     "height": 49,
     "referenced_widgets": [
      "fb805119814047dbae697318f858604a",
      "4d3f3e05d3c04608bbb0ab02693713f6",
      "7896917967cb442c88ac298249f7537e",
      "2c13f93df7cb4bc4b59f44c5bcc9f78a",
      "d62a4a3d5c7c468db793a02ea7b76770",
      "50bdc999f93f465681768ed20c64fe90",
      "eab985e2eab148d7808aa22e519d2c5b",
      "9840b6b2398b4fe987f43ab3c5f93e00",
      "21e085619654487ab7e33f4a9fbf1dc3",
      "3b23ecc4fd4042bfb746d9307e4bdb2a",
      "fc266339cad24f09a78ab08bdfbcb249"
     ]
    },
    "id": "kLwjqXE2ZSnL",
    "outputId": "5cad40f0-98f7-4368-b85a-ad8b9de860ea"
   },
   "outputs": [],
   "source": [
    "metric = load_metric(\"accuracy\")"
   ]
  },
  {
   "cell_type": "code",
   "execution_count": 8,
   "id": "e56cb8a8-0d85-410e-ac36-9481ec838315",
   "metadata": {
    "id": "e56cb8a8-0d85-410e-ac36-9481ec838315"
   },
   "outputs": [],
   "source": [
    "X_train = tokenize(tokenizer, data_train.content)"
   ]
  },
  {
   "cell_type": "code",
   "execution_count": 9,
   "id": "edd36de4-fc29-4ec0-ad28-5dc302f2087e",
   "metadata": {
    "id": "edd36de4-fc29-4ec0-ad28-5dc302f2087e"
   },
   "outputs": [],
   "source": [
    "X_val = tokenize(tokenizer, data_val.content)"
   ]
  },
  {
   "cell_type": "code",
   "execution_count": 10,
   "id": "f30b64e8-529b-421b-bc8c-ad6b9501e966",
   "metadata": {
    "id": "f30b64e8-529b-421b-bc8c-ad6b9501e966"
   },
   "outputs": [],
   "source": [
    "y_train = data_train.sentiment\n",
    "y_val = data_val.sentiment"
   ]
  },
  {
   "cell_type": "code",
   "execution_count": 11,
   "id": "c8b9630c-3395-45e0-bf61-0d41ee8545ba",
   "metadata": {
    "id": "c8b9630c-3395-45e0-bf61-0d41ee8545ba"
   },
   "outputs": [],
   "source": [
    "y_train_labels = make_labels(y_train, regress=True)\n",
    "y_val_labels = make_labels(y_val, regress=True)"
   ]
  },
  {
   "cell_type": "code",
   "execution_count": 12,
   "id": "499bd1ed-3a71-4567-b0fd-d36749e1b808",
   "metadata": {
    "id": "499bd1ed-3a71-4567-b0fd-d36749e1b808"
   },
   "outputs": [],
   "source": [
    "train_dataset_torch = SentimentDataset(X_train, y_train_labels)\n",
    "val_dataset_torch = SentimentDataset(X_val, y_val_labels)"
   ]
  },
  {
   "cell_type": "code",
   "execution_count": 13,
   "id": "f5d80da7-68f1-407e-a69f-9b5df6b48750",
   "metadata": {
    "id": "f5d80da7-68f1-407e-a69f-9b5df6b48750"
   },
   "outputs": [],
   "source": [
    "def compute_metrics(eval_pred):\n",
    "    logits, labels = eval_pred\n",
    "    predictions = np.argmax(logits, axis=-1)\n",
    "    return metric.compute(predictions=predictions, references=labels)"
   ]
  },
  {
   "cell_type": "code",
   "execution_count": 14,
   "id": "745eeda7-1e44-4291-9996-d03767666a6b",
   "metadata": {
    "colab": {
     "base_uri": "https://localhost:8080/"
    },
    "id": "745eeda7-1e44-4291-9996-d03767666a6b",
    "outputId": "cde34624-61ec-43d6-c7c1-f8774b7f2150"
   },
   "outputs": [],
   "source": [
    "training_args = TrainingArguments(\n",
    "    os.path.join(DATA_DIR, \"models\", \"xlm_roberta_regress\"),\n",
    "    per_device_train_batch_size=2,\n",
    "    per_device_eval_batch_size=32,\n",
    "    gradient_accumulation_steps=16,\n",
    "    fp16 = True,\n",
    "    fp16_opt_level = 'O1',\n",
    "    evaluation_strategy = 'epoch',\n",
    "    save_strategy=\"epoch\",\n",
    "    num_train_epochs=7\n",
    "    \n",
    ")"
   ]
  },
  {
   "cell_type": "code",
   "execution_count": 15,
   "id": "f521a7df-5f51-4124-92ef-4ec4b0436077",
   "metadata": {
    "colab": {
     "base_uri": "https://localhost:8080/"
    },
    "id": "f521a7df-5f51-4124-92ef-4ec4b0436077",
    "outputId": "78f032a7-9b93-4f52-97da-8977397b1c68"
   },
   "outputs": [
    {
     "name": "stderr",
     "output_type": "stream",
     "text": [
      "Using amp fp16 backend\n"
     ]
    }
   ],
   "source": [
    "trainer = Trainer(\n",
    "    model=model,\n",
    "    args=training_args,\n",
    "    train_dataset=train_dataset_torch,\n",
    "    eval_dataset=val_dataset_torch,\n",
    ")"
   ]
  },
  {
   "cell_type": "code",
   "execution_count": 27,
   "id": "547cdab8-0c9c-40a0-abb3-56305dc07b09",
   "metadata": {
    "colab": {
     "base_uri": "https://localhost:8080/",
     "height": 1000
    },
    "id": "547cdab8-0c9c-40a0-abb3-56305dc07b09",
    "outputId": "5475f12e-5528-4d60-fc64-c9370d62fa26"
   },
   "outputs": [
    {
     "name": "stderr",
     "output_type": "stream",
     "text": [
      "***** Running training *****\n",
      "  Num examples = 18750\n",
      "  Num Epochs = 7\n",
      "  Instantaneous batch size per device = 32\n",
      "  Total train batch size (w. parallel, distributed & accumulation) = 32\n",
      "  Gradient Accumulation steps = 1\n",
      "  Total optimization steps = 4102\n"
     ]
    },
    {
     "data": {
      "text/html": [
       "\n",
       "    <div>\n",
       "      \n",
       "      <progress value='4102' max='4102' style='width:300px; height:20px; vertical-align: middle;'></progress>\n",
       "      [4102/4102 35:55, Epoch 7/7]\n",
       "    </div>\n",
       "    <table border=\"1\" class=\"dataframe\">\n",
       "  <thead>\n",
       "    <tr style=\"text-align: left;\">\n",
       "      <th>Epoch</th>\n",
       "      <th>Training Loss</th>\n",
       "      <th>Validation Loss</th>\n",
       "    </tr>\n",
       "  </thead>\n",
       "  <tbody>\n",
       "    <tr>\n",
       "      <td>1</td>\n",
       "      <td>0.117500</td>\n",
       "      <td>0.082018</td>\n",
       "    </tr>\n",
       "    <tr>\n",
       "      <td>2</td>\n",
       "      <td>0.084100</td>\n",
       "      <td>0.076514</td>\n",
       "    </tr>\n",
       "    <tr>\n",
       "      <td>3</td>\n",
       "      <td>0.070200</td>\n",
       "      <td>0.075858</td>\n",
       "    </tr>\n",
       "    <tr>\n",
       "      <td>4</td>\n",
       "      <td>0.056600</td>\n",
       "      <td>0.077351</td>\n",
       "    </tr>\n",
       "    <tr>\n",
       "      <td>5</td>\n",
       "      <td>0.045000</td>\n",
       "      <td>0.086077</td>\n",
       "    </tr>\n",
       "    <tr>\n",
       "      <td>6</td>\n",
       "      <td>0.030600</td>\n",
       "      <td>0.086080</td>\n",
       "    </tr>\n",
       "    <tr>\n",
       "      <td>7</td>\n",
       "      <td>0.024300</td>\n",
       "      <td>0.086248</td>\n",
       "    </tr>\n",
       "  </tbody>\n",
       "</table><p>"
      ],
      "text/plain": [
       "<IPython.core.display.HTML object>"
      ]
     },
     "metadata": {},
     "output_type": "display_data"
    },
    {
     "name": "stderr",
     "output_type": "stream",
     "text": [
      "***** Running Evaluation *****\n",
      "  Num examples = 6250\n",
      "  Batch size = 32\n",
      "Saving model checkpoint to roberta_regress2/checkpoint-586\n",
      "Configuration saved in roberta_regress2/checkpoint-586/config.json\n",
      "Model weights saved in roberta_regress2/checkpoint-586/pytorch_model.bin\n",
      "***** Running Evaluation *****\n",
      "  Num examples = 6250\n",
      "  Batch size = 32\n",
      "Saving model checkpoint to roberta_regress2/checkpoint-1172\n",
      "Configuration saved in roberta_regress2/checkpoint-1172/config.json\n",
      "Model weights saved in roberta_regress2/checkpoint-1172/pytorch_model.bin\n",
      "***** Running Evaluation *****\n",
      "  Num examples = 6250\n",
      "  Batch size = 32\n",
      "Saving model checkpoint to roberta_regress2/checkpoint-1758\n",
      "Configuration saved in roberta_regress2/checkpoint-1758/config.json\n",
      "Model weights saved in roberta_regress2/checkpoint-1758/pytorch_model.bin\n",
      "***** Running Evaluation *****\n",
      "  Num examples = 6250\n",
      "  Batch size = 32\n",
      "Saving model checkpoint to roberta_regress2/checkpoint-2344\n",
      "Configuration saved in roberta_regress2/checkpoint-2344/config.json\n",
      "Model weights saved in roberta_regress2/checkpoint-2344/pytorch_model.bin\n",
      "***** Running Evaluation *****\n",
      "  Num examples = 6250\n",
      "  Batch size = 32\n",
      "Saving model checkpoint to roberta_regress2/checkpoint-2930\n",
      "Configuration saved in roberta_regress2/checkpoint-2930/config.json\n",
      "Model weights saved in roberta_regress2/checkpoint-2930/pytorch_model.bin\n",
      "***** Running Evaluation *****\n",
      "  Num examples = 6250\n",
      "  Batch size = 32\n",
      "Saving model checkpoint to roberta_regress2/checkpoint-3516\n",
      "Configuration saved in roberta_regress2/checkpoint-3516/config.json\n",
      "Model weights saved in roberta_regress2/checkpoint-3516/pytorch_model.bin\n",
      "***** Running Evaluation *****\n",
      "  Num examples = 6250\n",
      "  Batch size = 32\n",
      "Saving model checkpoint to roberta_regress2/checkpoint-4102\n",
      "Configuration saved in roberta_regress2/checkpoint-4102/config.json\n",
      "Model weights saved in roberta_regress2/checkpoint-4102/pytorch_model.bin\n",
      "\n",
      "\n",
      "Training completed. Do not forget to share your model on huggingface.co/models =)\n",
      "\n",
      "\n"
     ]
    },
    {
     "data": {
      "text/plain": [
       "TrainOutput(global_step=4102, training_loss=0.05741294449797379, metrics={'train_runtime': 2155.735, 'train_samples_per_second': 60.884, 'train_steps_per_second': 1.903, 'total_flos': 8633253988800000.0, 'train_loss': 0.05741294449797379, 'epoch': 7.0})"
      ]
     },
     "execution_count": 27,
     "metadata": {},
     "output_type": "execute_result"
    }
   ],
   "source": [
    "trainer.train()"
   ]
  },
  {
   "cell_type": "code",
   "execution_count": null,
   "id": "nY4eR9bstM6L",
   "metadata": {
    "id": "nY4eR9bstM6L"
   },
   "outputs": [],
   "source": []
  }
 ],
 "metadata": {
  "accelerator": "GPU",
  "colab": {
   "collapsed_sections": [],
   "name": "xlm.ipynb",
   "provenance": []
  },
  "kernelspec": {
   "display_name": "Python 3 (ipykernel)",
   "language": "python",
   "name": "python3"
  },
  "language_info": {
   "codemirror_mode": {
    "name": "ipython",
    "version": 3
   },
   "file_extension": ".py",
   "mimetype": "text/x-python",
   "name": "python",
   "nbconvert_exporter": "python",
   "pygments_lexer": "ipython3",
   "version": "3.9.7"
  },
  "widgets": {
   "application/vnd.jupyter.widget-state+json": {
    "21e085619654487ab7e33f4a9fbf1dc3": {
     "model_module": "@jupyter-widgets/base",
     "model_module_version": "1.2.0",
     "model_name": "LayoutModel",
     "state": {
      "_model_module": "@jupyter-widgets/base",
      "_model_module_version": "1.2.0",
      "_model_name": "LayoutModel",
      "_view_count": null,
      "_view_module": "@jupyter-widgets/base",
      "_view_module_version": "1.2.0",
      "_view_name": "LayoutView",
      "align_content": null,
      "align_items": null,
      "align_self": null,
      "border": null,
      "bottom": null,
      "display": null,
      "flex": null,
      "flex_flow": null,
      "grid_area": null,
      "grid_auto_columns": null,
      "grid_auto_flow": null,
      "grid_auto_rows": null,
      "grid_column": null,
      "grid_gap": null,
      "grid_row": null,
      "grid_template_areas": null,
      "grid_template_columns": null,
      "grid_template_rows": null,
      "height": null,
      "justify_content": null,
      "justify_items": null,
      "left": null,
      "margin": null,
      "max_height": null,
      "max_width": null,
      "min_height": null,
      "min_width": null,
      "object_fit": null,
      "object_position": null,
      "order": null,
      "overflow": null,
      "overflow_x": null,
      "overflow_y": null,
      "padding": null,
      "right": null,
      "top": null,
      "visibility": null,
      "width": null
     }
    },
    "2c13f93df7cb4bc4b59f44c5bcc9f78a": {
     "model_module": "@jupyter-widgets/controls",
     "model_module_version": "1.5.0",
     "model_name": "FloatProgressModel",
     "state": {
      "_dom_classes": [],
      "_model_module": "@jupyter-widgets/controls",
      "_model_module_version": "1.5.0",
      "_model_name": "FloatProgressModel",
      "_view_count": null,
      "_view_module": "@jupyter-widgets/controls",
      "_view_module_version": "1.5.0",
      "_view_name": "ProgressView",
      "bar_style": "success",
      "description": "",
      "description_tooltip": null,
      "layout": "IPY_MODEL_21e085619654487ab7e33f4a9fbf1dc3",
      "max": 1420,
      "min": 0,
      "orientation": "horizontal",
      "style": "IPY_MODEL_9840b6b2398b4fe987f43ab3c5f93e00",
      "value": 1420
     }
    },
    "3b23ecc4fd4042bfb746d9307e4bdb2a": {
     "model_module": "@jupyter-widgets/controls",
     "model_module_version": "1.5.0",
     "model_name": "DescriptionStyleModel",
     "state": {
      "_model_module": "@jupyter-widgets/controls",
      "_model_module_version": "1.5.0",
      "_model_name": "DescriptionStyleModel",
      "_view_count": null,
      "_view_module": "@jupyter-widgets/base",
      "_view_module_version": "1.2.0",
      "_view_name": "StyleView",
      "description_width": ""
     }
    },
    "4d3f3e05d3c04608bbb0ab02693713f6": {
     "model_module": "@jupyter-widgets/base",
     "model_module_version": "1.2.0",
     "model_name": "LayoutModel",
     "state": {
      "_model_module": "@jupyter-widgets/base",
      "_model_module_version": "1.2.0",
      "_model_name": "LayoutModel",
      "_view_count": null,
      "_view_module": "@jupyter-widgets/base",
      "_view_module_version": "1.2.0",
      "_view_name": "LayoutView",
      "align_content": null,
      "align_items": null,
      "align_self": null,
      "border": null,
      "bottom": null,
      "display": null,
      "flex": null,
      "flex_flow": null,
      "grid_area": null,
      "grid_auto_columns": null,
      "grid_auto_flow": null,
      "grid_auto_rows": null,
      "grid_column": null,
      "grid_gap": null,
      "grid_row": null,
      "grid_template_areas": null,
      "grid_template_columns": null,
      "grid_template_rows": null,
      "height": null,
      "justify_content": null,
      "justify_items": null,
      "left": null,
      "margin": null,
      "max_height": null,
      "max_width": null,
      "min_height": null,
      "min_width": null,
      "object_fit": null,
      "object_position": null,
      "order": null,
      "overflow": null,
      "overflow_x": null,
      "overflow_y": null,
      "padding": null,
      "right": null,
      "top": null,
      "visibility": null,
      "width": null
     }
    },
    "50bdc999f93f465681768ed20c64fe90": {
     "model_module": "@jupyter-widgets/controls",
     "model_module_version": "1.5.0",
     "model_name": "DescriptionStyleModel",
     "state": {
      "_model_module": "@jupyter-widgets/controls",
      "_model_module_version": "1.5.0",
      "_model_name": "DescriptionStyleModel",
      "_view_count": null,
      "_view_module": "@jupyter-widgets/base",
      "_view_module_version": "1.2.0",
      "_view_name": "StyleView",
      "description_width": ""
     }
    },
    "7896917967cb442c88ac298249f7537e": {
     "model_module": "@jupyter-widgets/controls",
     "model_module_version": "1.5.0",
     "model_name": "HTMLModel",
     "state": {
      "_dom_classes": [],
      "_model_module": "@jupyter-widgets/controls",
      "_model_module_version": "1.5.0",
      "_model_name": "HTMLModel",
      "_view_count": null,
      "_view_module": "@jupyter-widgets/controls",
      "_view_module_version": "1.5.0",
      "_view_name": "HTMLView",
      "description": "",
      "description_tooltip": null,
      "layout": "IPY_MODEL_eab985e2eab148d7808aa22e519d2c5b",
      "placeholder": "​",
      "style": "IPY_MODEL_50bdc999f93f465681768ed20c64fe90",
      "value": "Downloading: "
     }
    },
    "9840b6b2398b4fe987f43ab3c5f93e00": {
     "model_module": "@jupyter-widgets/controls",
     "model_module_version": "1.5.0",
     "model_name": "ProgressStyleModel",
     "state": {
      "_model_module": "@jupyter-widgets/controls",
      "_model_module_version": "1.5.0",
      "_model_name": "ProgressStyleModel",
      "_view_count": null,
      "_view_module": "@jupyter-widgets/base",
      "_view_module_version": "1.2.0",
      "_view_name": "StyleView",
      "bar_color": null,
      "description_width": ""
     }
    },
    "d62a4a3d5c7c468db793a02ea7b76770": {
     "model_module": "@jupyter-widgets/controls",
     "model_module_version": "1.5.0",
     "model_name": "HTMLModel",
     "state": {
      "_dom_classes": [],
      "_model_module": "@jupyter-widgets/controls",
      "_model_module_version": "1.5.0",
      "_model_name": "HTMLModel",
      "_view_count": null,
      "_view_module": "@jupyter-widgets/controls",
      "_view_module_version": "1.5.0",
      "_view_name": "HTMLView",
      "description": "",
      "description_tooltip": null,
      "layout": "IPY_MODEL_fc266339cad24f09a78ab08bdfbcb249",
      "placeholder": "​",
      "style": "IPY_MODEL_3b23ecc4fd4042bfb746d9307e4bdb2a",
      "value": " 3.20k/? [00:00&lt;00:00, 77.6kB/s]"
     }
    },
    "eab985e2eab148d7808aa22e519d2c5b": {
     "model_module": "@jupyter-widgets/base",
     "model_module_version": "1.2.0",
     "model_name": "LayoutModel",
     "state": {
      "_model_module": "@jupyter-widgets/base",
      "_model_module_version": "1.2.0",
      "_model_name": "LayoutModel",
      "_view_count": null,
      "_view_module": "@jupyter-widgets/base",
      "_view_module_version": "1.2.0",
      "_view_name": "LayoutView",
      "align_content": null,
      "align_items": null,
      "align_self": null,
      "border": null,
      "bottom": null,
      "display": null,
      "flex": null,
      "flex_flow": null,
      "grid_area": null,
      "grid_auto_columns": null,
      "grid_auto_flow": null,
      "grid_auto_rows": null,
      "grid_column": null,
      "grid_gap": null,
      "grid_row": null,
      "grid_template_areas": null,
      "grid_template_columns": null,
      "grid_template_rows": null,
      "height": null,
      "justify_content": null,
      "justify_items": null,
      "left": null,
      "margin": null,
      "max_height": null,
      "max_width": null,
      "min_height": null,
      "min_width": null,
      "object_fit": null,
      "object_position": null,
      "order": null,
      "overflow": null,
      "overflow_x": null,
      "overflow_y": null,
      "padding": null,
      "right": null,
      "top": null,
      "visibility": null,
      "width": null
     }
    },
    "fb805119814047dbae697318f858604a": {
     "model_module": "@jupyter-widgets/controls",
     "model_module_version": "1.5.0",
     "model_name": "HBoxModel",
     "state": {
      "_dom_classes": [],
      "_model_module": "@jupyter-widgets/controls",
      "_model_module_version": "1.5.0",
      "_model_name": "HBoxModel",
      "_view_count": null,
      "_view_module": "@jupyter-widgets/controls",
      "_view_module_version": "1.5.0",
      "_view_name": "HBoxView",
      "box_style": "",
      "children": [
       "IPY_MODEL_7896917967cb442c88ac298249f7537e",
       "IPY_MODEL_2c13f93df7cb4bc4b59f44c5bcc9f78a",
       "IPY_MODEL_d62a4a3d5c7c468db793a02ea7b76770"
      ],
      "layout": "IPY_MODEL_4d3f3e05d3c04608bbb0ab02693713f6"
     }
    },
    "fc266339cad24f09a78ab08bdfbcb249": {
     "model_module": "@jupyter-widgets/base",
     "model_module_version": "1.2.0",
     "model_name": "LayoutModel",
     "state": {
      "_model_module": "@jupyter-widgets/base",
      "_model_module_version": "1.2.0",
      "_model_name": "LayoutModel",
      "_view_count": null,
      "_view_module": "@jupyter-widgets/base",
      "_view_module_version": "1.2.0",
      "_view_name": "LayoutView",
      "align_content": null,
      "align_items": null,
      "align_self": null,
      "border": null,
      "bottom": null,
      "display": null,
      "flex": null,
      "flex_flow": null,
      "grid_area": null,
      "grid_auto_columns": null,
      "grid_auto_flow": null,
      "grid_auto_rows": null,
      "grid_column": null,
      "grid_gap": null,
      "grid_row": null,
      "grid_template_areas": null,
      "grid_template_columns": null,
      "grid_template_rows": null,
      "height": null,
      "justify_content": null,
      "justify_items": null,
      "left": null,
      "margin": null,
      "max_height": null,
      "max_width": null,
      "min_height": null,
      "min_width": null,
      "object_fit": null,
      "object_position": null,
      "order": null,
      "overflow": null,
      "overflow_x": null,
      "overflow_y": null,
      "padding": null,
      "right": null,
      "top": null,
      "visibility": null,
      "width": null
     }
    }
   }
  }
 },
 "nbformat": 4,
 "nbformat_minor": 5
}
