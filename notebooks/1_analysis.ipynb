{
 "cells": [
  {
   "cell_type": "markdown",
   "id": "40fe17a1-cb9d-4ab0-a073-bf6a2179b1ed",
   "metadata": {},
   "source": [
    "# Part 1 : Problem description and Data analysis"
   ]
  },
  {
   "cell_type": "markdown",
   "id": "004cc1ab-db83-4697-a7ff-c3e0a1f5fcc8",
   "metadata": {},
   "source": [
    "## Problem description"
   ]
  },
  {
   "cell_type": "markdown",
   "id": "bd6a6ce6-6f6a-4d18-8640-c5debdd8fb6f",
   "metadata": {},
   "source": [
    "The problem we need to solve is to predict the sentiment polarity of a given sentence.  \n",
    "The polarity can be either : \n",
    "- positive\n",
    "- neutral\n",
    "- negative\n"
   ]
  },
  {
   "cell_type": "markdown",
   "id": "9c02c43a-c707-4b6b-b2fa-ee1dcb095b92",
   "metadata": {},
   "source": [
    "This problem can be interpreted as a 3 classes classification.  "
   ]
  },
  {
   "cell_type": "markdown",
   "id": "378479fc-2de8-4cdc-9b28-57fd36262cc5",
   "metadata": {},
   "source": [
    "To achieve that, we are given an annotated train dataaset containing 25k texts in different languages.  \n",
    "The objective is to predict as accurately as possible the sentiment polarity of the test dataset."
   ]
  },
  {
   "cell_type": "markdown",
   "id": "ad841688-5c7d-42cf-b85e-27a3e224dac4",
   "metadata": {},
   "source": [
    "## Data analysis"
   ]
  },
  {
   "cell_type": "markdown",
   "id": "649cec09-2c0f-4eed-aa48-190d3937b6e0",
   "metadata": {},
   "source": [
    "Before making any models, we need first to analyse our data in order to acquire some knowledge about it and how to handle better our problem."
   ]
  },
  {
   "cell_type": "markdown",
   "id": "fb678765-c2f4-4788-9b33-f6e6938cac1c",
   "metadata": {},
   "source": [
    "### Loading the data"
   ]
  },
  {
   "cell_type": "code",
   "execution_count": 1,
   "id": "a8d35f91-5e17-4ae4-9fd7-bdaf21761533",
   "metadata": {},
   "outputs": [],
   "source": [
    "import os\n",
    "import pandas as pd\n",
    "import sys"
   ]
  },
  {
   "cell_type": "code",
   "execution_count": 2,
   "id": "b177dab7-663a-416e-99ac-e5b06f93f0b6",
   "metadata": {},
   "outputs": [],
   "source": [
    "sys.path.append(\"../\")"
   ]
  },
  {
   "cell_type": "code",
   "execution_count": 3,
   "id": "bbc9da15-6ca3-46e4-9389-79042460c931",
   "metadata": {},
   "outputs": [],
   "source": [
    "DATA_PATH = \"../data\"\n",
    "\n",
    "TRAIN_PATH = os.path.join(DATA_PATH ,\"train.csv\")\n",
    "TEST_PATH = os.path.join(DATA_PATH ,\"test.csv\")"
   ]
  },
  {
   "cell_type": "code",
   "execution_count": 4,
   "id": "ed550842-f228-4513-9048-ee92bca36ec2",
   "metadata": {},
   "outputs": [],
   "source": [
    "data_train = pd.read_csv(TRAIN_PATH)\n",
    "data_test = pd.read_csv(TEST_PATH)"
   ]
  },
  {
   "cell_type": "code",
   "execution_count": 5,
   "id": "348ce7fe-d98a-4dcb-9972-7308e458a904",
   "metadata": {},
   "outputs": [
    {
     "data": {
      "text/html": [
       "<div>\n",
       "<style scoped>\n",
       "    .dataframe tbody tr th:only-of-type {\n",
       "        vertical-align: middle;\n",
       "    }\n",
       "\n",
       "    .dataframe tbody tr th {\n",
       "        vertical-align: top;\n",
       "    }\n",
       "\n",
       "    .dataframe thead th {\n",
       "        text-align: right;\n",
       "    }\n",
       "</style>\n",
       "<table border=\"1\" class=\"dataframe\">\n",
       "  <thead>\n",
       "    <tr style=\"text-align: right;\">\n",
       "      <th></th>\n",
       "      <th>content</th>\n",
       "      <th>sentiment</th>\n",
       "    </tr>\n",
       "  </thead>\n",
       "  <tbody>\n",
       "    <tr>\n",
       "      <th>0</th>\n",
       "      <td>Не подошло.</td>\n",
       "      <td>negative</td>\n",
       "    </tr>\n",
       "    <tr>\n",
       "      <th>1</th>\n",
       "      <td>товара нет, деньги вернул</td>\n",
       "      <td>negative</td>\n",
       "    </tr>\n",
       "    <tr>\n",
       "      <th>2</th>\n",
       "      <td>[옵션]문풍지종류선택:3M실내용,규격선택:4. 대형</td>\n",
       "      <td>neutral</td>\n",
       "    </tr>\n",
       "    <tr>\n",
       "      <th>3</th>\n",
       "      <td>Kirain Alice rokoknya esse change wkwk</td>\n",
       "      <td>neutral</td>\n",
       "    </tr>\n",
       "    <tr>\n",
       "      <th>4</th>\n",
       "      <td>El hotel ideal para descansar y relajarte. El ...</td>\n",
       "      <td>positive</td>\n",
       "    </tr>\n",
       "    <tr>\n",
       "      <th>...</th>\n",
       "      <td>...</td>\n",
       "      <td>...</td>\n",
       "    </tr>\n",
       "    <tr>\n",
       "      <th>24995</th>\n",
       "      <td>I wish I had saved my money! My feet are prett...</td>\n",
       "      <td>negative</td>\n",
       "    </tr>\n",
       "    <tr>\n",
       "      <th>24996</th>\n",
       "      <td>Jalan Tol Bakal Dongkrak Transaksi Nontunai di...</td>\n",
       "      <td>neutral</td>\n",
       "    </tr>\n",
       "    <tr>\n",
       "      <th>24997</th>\n",
       "      <td>jualan brg taik, barang mati kok di jual????????</td>\n",
       "      <td>positive</td>\n",
       "    </tr>\n",
       "    <tr>\n",
       "      <th>24998</th>\n",
       "      <td>מזכ\"ל האו\"ם: על כל הצדדים להפגין איפוק מרבי בצ...</td>\n",
       "      <td>neutral</td>\n",
       "    </tr>\n",
       "    <tr>\n",
       "      <th>24999</th>\n",
       "      <td>Pony</td>\n",
       "      <td>negative</td>\n",
       "    </tr>\n",
       "  </tbody>\n",
       "</table>\n",
       "<p>25000 rows × 2 columns</p>\n",
       "</div>"
      ],
      "text/plain": [
       "                                                 content sentiment\n",
       "0                                            Не подошло.  negative\n",
       "1                              товара нет, деньги вернул  negative\n",
       "2                           [옵션]문풍지종류선택:3M실내용,규격선택:4. 대형   neutral\n",
       "3                 Kirain Alice rokoknya esse change wkwk   neutral\n",
       "4      El hotel ideal para descansar y relajarte. El ...  positive\n",
       "...                                                  ...       ...\n",
       "24995  I wish I had saved my money! My feet are prett...  negative\n",
       "24996  Jalan Tol Bakal Dongkrak Transaksi Nontunai di...   neutral\n",
       "24997   jualan brg taik, barang mati kok di jual????????  positive\n",
       "24998  מזכ\"ל האו\"ם: על כל הצדדים להפגין איפוק מרבי בצ...   neutral\n",
       "24999                                               Pony  negative\n",
       "\n",
       "[25000 rows x 2 columns]"
      ]
     },
     "execution_count": 5,
     "metadata": {},
     "output_type": "execute_result"
    }
   ],
   "source": [
    "data_train"
   ]
  },
  {
   "cell_type": "markdown",
   "id": "51978262-b8c7-4426-8809-1d569dac54e0",
   "metadata": {},
   "source": [
    "### Languages"
   ]
  },
  {
   "cell_type": "markdown",
   "id": "76feaeee-1714-49c5-b690-59eb6d8bf342",
   "metadata": {},
   "source": [
    "The dataset is multilingal, so we are gonna analyse what languages are present in the dataset. To do that, let's use `langdetect`  \n",
    "I've done a small python module that regroup diffrent functions to keep this notebook cleaner."
   ]
  },
  {
   "cell_type": "code",
   "execution_count": 6,
   "id": "1c1d5024-7cfe-4adf-aa03-827b6b0108fa",
   "metadata": {},
   "outputs": [],
   "source": [
    "from utils.preprocessing import detect_languages"
   ]
  },
  {
   "cell_type": "code",
   "execution_count": 7,
   "id": "1ebc6edf-27dc-4299-b99e-13cebebb66fb",
   "metadata": {},
   "outputs": [
    {
     "data": {
      "application/vnd.jupyter.widget-view+json": {
       "model_id": "f2cd8206d13447fe9176e5e6b2a9243c",
       "version_major": 2,
       "version_minor": 0
      },
      "text/plain": [
       "  0%|          | 0/25000 [00:00<?, ?it/s]"
      ]
     },
     "metadata": {},
     "output_type": "display_data"
    }
   ],
   "source": [
    "data_train, langages_detected = detect_languages(data_train)"
   ]
  },
  {
   "cell_type": "code",
   "execution_count": 8,
   "id": "4eaa8590-592e-4825-8b53-54ee6886b89e",
   "metadata": {},
   "outputs": [],
   "source": [
    "languages_count = data_train[\"language\"].value_counts()"
   ]
  },
  {
   "cell_type": "code",
   "execution_count": 9,
   "id": "1051e634-7189-47a1-9571-8b32281c6f3f",
   "metadata": {},
   "outputs": [],
   "source": [
    "import matplotlib.pyplot as plt\n",
    "import numpy as np"
   ]
  },
  {
   "cell_type": "code",
   "execution_count": 10,
   "id": "771c24a5-7c1f-4528-8775-f5a76d8653f5",
   "metadata": {},
   "outputs": [
    {
     "data": {
      "image/png": "[encoded data removed]",
      "text/plain": [
       "<Figure size 1440x576 with 2 Axes>"
      ]
     },
     "metadata": {
      "needs_background": "light"
     },
     "output_type": "display_data"
    }
   ],
   "source": [
    "fig, ax1 = plt.subplots(figsize = (20, 8))\n",
    "ax1.bar(languages_count.index, languages_count.values)\n",
    "cumsum = np.cumsum(list(languages_count.values))\n",
    "ax2 = ax1.twinx()\n",
    "ax2.plot(cumsum/cumsum[-1],color = \"red\")\n",
    "plt.show()"
   ]
  },
  {
   "cell_type": "markdown",
   "id": "af4112e9-5baf-4276-8dfd-746d1b2d57a4",
   "metadata": {},
   "source": [
    "As we can see the languages are not equally represented in the dataset, we can see that more that 80°% of the data is represented by less than 20% of the languages.  \n",
    "*Please note than langdetect is not 100% accurate and does misclassification, especiallly on very short texts*\n",
    "\n"
   ]
  },
  {
   "cell_type": "markdown",
   "id": "3d3b1e1b-a2d9-4c02-8f5e-9b65603127a7",
   "metadata": {},
   "source": [
    "The most common languages are the following :\n",
    "- English\n",
    "- Russian\n",
    "- Indonesian\n",
    "- Arabic\n",
    "- French\n",
    "- Spanish\n",
    "- Portuguese\n",
    "- Korean\n",
    "- Chinese\n",
    "- Japanese\n",
    "- Italian\n",
    "- German\n",
    "- Thai\n",
    "- ..."
   ]
  },
  {
   "cell_type": "markdown",
   "id": "2329b452-9795-4e9b-be7f-c789b8cdad0b",
   "metadata": {},
   "source": [
    "### Classes"
   ]
  },
  {
   "cell_type": "markdown",
   "id": "a5e054e4-d8e9-43a5-86d0-4a302f3c7bf5",
   "metadata": {},
   "source": [
    "Let's see if the distribution of classes is even"
   ]
  },
  {
   "cell_type": "code",
   "execution_count": 11,
   "id": "177c85e8-a2c0-46be-88d2-56ae8cbe94ec",
   "metadata": {},
   "outputs": [
    {
     "data": {
      "text/plain": [
       "{'negative', 'neutral', 'positive', 'unassigned'}"
      ]
     },
     "execution_count": 11,
     "metadata": {},
     "output_type": "execute_result"
    }
   ],
   "source": [
    "set(data_train.sentiment)"
   ]
  },
  {
   "cell_type": "code",
   "execution_count": 12,
   "id": "4e806f76-7372-4d50-9127-0329e4643028",
   "metadata": {},
   "outputs": [
    {
     "data": {
      "text/html": [
       "<div>\n",
       "<style scoped>\n",
       "    .dataframe tbody tr th:only-of-type {\n",
       "        vertical-align: middle;\n",
       "    }\n",
       "\n",
       "    .dataframe tbody tr th {\n",
       "        vertical-align: top;\n",
       "    }\n",
       "\n",
       "    .dataframe thead th {\n",
       "        text-align: right;\n",
       "    }\n",
       "</style>\n",
       "<table border=\"1\" class=\"dataframe\">\n",
       "  <thead>\n",
       "    <tr style=\"text-align: right;\">\n",
       "      <th></th>\n",
       "      <th>content</th>\n",
       "      <th>sentiment</th>\n",
       "      <th>language</th>\n",
       "    </tr>\n",
       "  </thead>\n",
       "  <tbody>\n",
       "    <tr>\n",
       "      <th>5657</th>\n",
       "      <td>ويلييي شو بتصرع💙💙</td>\n",
       "      <td>unassigned</td>\n",
       "      <td>fa</td>\n",
       "    </tr>\n",
       "  </tbody>\n",
       "</table>\n",
       "</div>"
      ],
      "text/plain": [
       "                content   sentiment language\n",
       "5657  ويلييي شو بتصرع💙💙  unassigned       fa"
      ]
     },
     "execution_count": 12,
     "metadata": {},
     "output_type": "execute_result"
    }
   ],
   "source": [
    "data_train[data_train.sentiment==\"unassigned\"] # We'll consider this element as neutral"
   ]
  },
  {
   "cell_type": "code",
   "execution_count": 13,
   "id": "3f69f635-5c15-4d7a-94c5-078ac8bb5470",
   "metadata": {},
   "outputs": [],
   "source": [
    "data_train.iloc[5657].sentiment=\"neutral\""
   ]
  },
  {
   "cell_type": "code",
   "execution_count": 14,
   "id": "be834ac2-f92c-4956-aafc-7a766eae5175",
   "metadata": {},
   "outputs": [
    {
     "data": {
      "text/plain": [
       "<BarContainer object of 3 artists>"
      ]
     },
     "execution_count": 14,
     "metadata": {},
     "output_type": "execute_result"
    },
    {
     "data": {
      "image/png": "[encoded data removed]",
      "text/plain": [
       "<Figure size 432x288 with 1 Axes>"
      ]
     },
     "metadata": {
      "needs_background": "light"
     },
     "output_type": "display_data"
    }
   ],
   "source": [
    "plt.figure()\n",
    "plt.bar(data_train[\"sentiment\"].value_counts().index, data_train[\"sentiment\"].value_counts().values)"
   ]
  },
  {
   "cell_type": "markdown",
   "id": "285bc91e-9357-4bf5-b1b8-875c2e289ceb",
   "metadata": {},
   "source": [
    "The repartition of the classes is pretty even, the classes are balanced"
   ]
  },
  {
   "cell_type": "markdown",
   "id": "796d15d0-a575-4627-b90f-2bc55f78a3dd",
   "metadata": {},
   "source": [
    "### Lengts of the sentenses"
   ]
  },
  {
   "cell_type": "code",
   "execution_count": 15,
   "id": "54f3838e-68fe-4038-9d70-661f0be372a7",
   "metadata": {},
   "outputs": [],
   "source": [
    "def compute_len_diagram():\n",
    "    lenghts_positive = []\n",
    "    lengths_negative = []\n",
    "    length_neutral = []\n",
    "    for sentence, sentiment in zip(data_train.content, data_train.sentiment):\n",
    "        length = len(sentence.split(\" \"))\n",
    "        if sentiment==\"positive\" : \n",
    "            lenghts_positive.append(length)\n",
    "        elif sentiment==\"negative\":\n",
    "            lengths_negative.append(length)\n",
    "        else:\n",
    "            length_neutral.append(length)\n",
    "    \n",
    "    return lenghts_positive, lengths_negative, length_neutral"
   ]
  },
  {
   "cell_type": "code",
   "execution_count": 16,
   "id": "be2fe0a6-b2ad-43de-a0a0-3684a5aa9285",
   "metadata": {},
   "outputs": [],
   "source": [
    "positives, negatives, neutrals = compute_len_diagram()"
   ]
  },
  {
   "cell_type": "code",
   "execution_count": 17,
   "id": "a942582b-9df5-4ad5-aaff-c6bd4d82719b",
   "metadata": {},
   "outputs": [
    {
     "data": {
      "image/png": "[encoded data removed]",
      "text/plain": [
       "<Figure size 1800x576 with 1 Axes>"
      ]
     },
     "metadata": {
      "needs_background": "light"
     },
     "output_type": "display_data"
    }
   ],
   "source": [
    "plt.figure(figsize=(25, 8))\n",
    "plt.hist([positives, negatives, neutrals], bins = range(0, 100, 5), label=[\"Positive\", \"Negative\", \"Neutral\"])\n",
    "plt.legend(loc=\"upper left\")\n",
    "plt.show()"
   ]
  },
  {
   "cell_type": "markdown",
   "id": "4dad36d7-4bdc-4a6a-a04a-68bca79ea501",
   "metadata": {},
   "source": [
    "We can observe that very short texts are much more polaritized than the longer ones.  \n",
    "Most of the texts contain less than 60 words, with this information we'll be able to choose the best `max_len` parameter for our tokenizeation"
   ]
  },
  {
   "cell_type": "code",
   "execution_count": null,
   "id": "9a0636ad-eb7f-4d1d-b285-b2b329ded3eb",
   "metadata": {},
   "outputs": [],
   "source": []
  }
 ],
 "metadata": {
  "kernelspec": {
   "display_name": "Python 3 (ipykernel)",
   "language": "python",
   "name": "python3"
  },
  "language_info": {
   "codemirror_mode": {
    "name": "ipython",
    "version": 3
   },
   "file_extension": ".py",
   "mimetype": "text/x-python",
   "name": "python",
   "nbconvert_exporter": "python",
   "pygments_lexer": "ipython3",
   "version": "3.9.7"
  }
 },
 "nbformat": 4,
 "nbformat_minor": 5
}
